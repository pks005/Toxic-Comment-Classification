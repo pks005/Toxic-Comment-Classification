{
 "cells": [
  {
   "cell_type": "code",
   "execution_count": 2,
   "metadata": {},
   "outputs": [],
   "source": [
    "N = 3000  # number_of_columns_to_selected_in_termDocumentMatrix\n",
    "target = 'threat'"
   ]
  },
  {
   "cell_type": "code",
   "execution_count": 3,
   "metadata": {},
   "outputs": [],
   "source": [
    "import textmining\n",
    "import nltk\n",
    "import string\n",
    "import numpy as np\n",
    "from textblob import TextBlob\n",
    "import pandas as pd\n",
    "from sklearn.feature_extraction.text import CountVectorizer\n",
    "from nltk.corpus import stopwords\n",
    "from sklearn.model_selection import train_test_split\n",
    "from xgboost import XGBRegressor, XGBClassifier\n",
    "from sklearn.externals import joblib\n",
    "from sklearn.model_selection import StratifiedKFold, GridSearchCV\n",
    "from sklearn.metrics import accuracy_score, roc_auc_score, f1_score, precision_score, recall_score\n",
    "import xgboost as xgb\n",
    "import matplotlib.pyplot as plt\n",
    "from matplotlib.pylab import rcParams\n",
    "from sklearn.feature_selection import SelectFromModel"
   ]
  },
  {
   "cell_type": "code",
   "execution_count": 4,
   "metadata": {},
   "outputs": [
    {
     "data": {
      "text/html": [
       "<div>\n",
       "<style scoped>\n",
       "    .dataframe tbody tr th:only-of-type {\n",
       "        vertical-align: middle;\n",
       "    }\n",
       "\n",
       "    .dataframe tbody tr th {\n",
       "        vertical-align: top;\n",
       "    }\n",
       "\n",
       "    .dataframe thead th {\n",
       "        text-align: right;\n",
       "    }\n",
       "</style>\n",
       "<table border=\"1\" class=\"dataframe\">\n",
       "  <thead>\n",
       "    <tr style=\"text-align: right;\">\n",
       "      <th></th>\n",
       "      <th>id</th>\n",
       "      <th>comment_text</th>\n",
       "      <th>toxic</th>\n",
       "      <th>severe_toxic</th>\n",
       "      <th>obscene</th>\n",
       "      <th>threat</th>\n",
       "      <th>insult</th>\n",
       "      <th>identity_hate</th>\n",
       "    </tr>\n",
       "  </thead>\n",
       "  <tbody>\n",
       "    <tr>\n",
       "      <th>0</th>\n",
       "      <td>0000997932d777bf</td>\n",
       "      <td>Explanation\\nWhy the edits made under my usern...</td>\n",
       "      <td>0</td>\n",
       "      <td>0</td>\n",
       "      <td>0</td>\n",
       "      <td>0</td>\n",
       "      <td>0</td>\n",
       "      <td>0</td>\n",
       "    </tr>\n",
       "    <tr>\n",
       "      <th>1</th>\n",
       "      <td>000103f0d9cfb60f</td>\n",
       "      <td>D'aww! He matches this background colour I'm s...</td>\n",
       "      <td>0</td>\n",
       "      <td>0</td>\n",
       "      <td>0</td>\n",
       "      <td>0</td>\n",
       "      <td>0</td>\n",
       "      <td>0</td>\n",
       "    </tr>\n",
       "    <tr>\n",
       "      <th>2</th>\n",
       "      <td>000113f07ec002fd</td>\n",
       "      <td>Hey man, I'm really not trying to edit war. It...</td>\n",
       "      <td>0</td>\n",
       "      <td>0</td>\n",
       "      <td>0</td>\n",
       "      <td>0</td>\n",
       "      <td>0</td>\n",
       "      <td>0</td>\n",
       "    </tr>\n",
       "    <tr>\n",
       "      <th>3</th>\n",
       "      <td>0001b41b1c6bb37e</td>\n",
       "      <td>\"\\nMore\\nI can't make any real suggestions on ...</td>\n",
       "      <td>0</td>\n",
       "      <td>0</td>\n",
       "      <td>0</td>\n",
       "      <td>0</td>\n",
       "      <td>0</td>\n",
       "      <td>0</td>\n",
       "    </tr>\n",
       "    <tr>\n",
       "      <th>4</th>\n",
       "      <td>0001d958c54c6e35</td>\n",
       "      <td>You, sir, are my hero. Any chance you remember...</td>\n",
       "      <td>0</td>\n",
       "      <td>0</td>\n",
       "      <td>0</td>\n",
       "      <td>0</td>\n",
       "      <td>0</td>\n",
       "      <td>0</td>\n",
       "    </tr>\n",
       "  </tbody>\n",
       "</table>\n",
       "</div>"
      ],
      "text/plain": [
       "                 id                                       comment_text  toxic  \\\n",
       "0  0000997932d777bf  Explanation\\nWhy the edits made under my usern...      0   \n",
       "1  000103f0d9cfb60f  D'aww! He matches this background colour I'm s...      0   \n",
       "2  000113f07ec002fd  Hey man, I'm really not trying to edit war. It...      0   \n",
       "3  0001b41b1c6bb37e  \"\\nMore\\nI can't make any real suggestions on ...      0   \n",
       "4  0001d958c54c6e35  You, sir, are my hero. Any chance you remember...      0   \n",
       "\n",
       "   severe_toxic  obscene  threat  insult  identity_hate  \n",
       "0             0        0       0       0              0  \n",
       "1             0        0       0       0              0  \n",
       "2             0        0       0       0              0  \n",
       "3             0        0       0       0              0  \n",
       "4             0        0       0       0              0  "
      ]
     },
     "execution_count": 4,
     "metadata": {},
     "output_type": "execute_result"
    }
   ],
   "source": [
    "data = pd.read_csv(\"./Dataset/train.csv\")\n",
    "data.head()"
   ]
  },
  {
   "cell_type": "code",
   "execution_count": 5,
   "metadata": {},
   "outputs": [
    {
     "data": {
      "text/plain": [
       "0"
      ]
     },
     "execution_count": 5,
     "metadata": {},
     "output_type": "execute_result"
    }
   ],
   "source": [
    "sum(data.id.isna())"
   ]
  },
  {
   "cell_type": "code",
   "execution_count": 6,
   "metadata": {},
   "outputs": [],
   "source": [
    "data = data.loc[:, 'id':'identity_hate']\n",
    "d1 = data.loc[data[target] == 1]\n",
    "d2 = data.loc[data[target] == 0]\n",
    "d1.shape\n",
    "d2.shape[0]\n",
    "d3 = d1.append(d2[0:d1.shape[0]])\n",
    "d3.shape\n",
    "d3.groupby(target).size()\n",
    "d3 = d3.sort_index()\n",
    "\n",
    "data = d3.copy()\n",
    "del([d1,d2,d3])"
   ]
  },
  {
   "cell_type": "code",
   "execution_count": 7,
   "metadata": {},
   "outputs": [],
   "source": [
    "data.index = range(0, data.shape[0])"
   ]
  },
  {
   "cell_type": "code",
   "execution_count": 8,
   "metadata": {},
   "outputs": [
    {
     "data": {
      "text/plain": [
       "(956, 1)"
      ]
     },
     "execution_count": 8,
     "metadata": {},
     "output_type": "execute_result"
    }
   ],
   "source": [
    "id_column = data[['id']]\n",
    "id_column.shape"
   ]
  },
  {
   "cell_type": "code",
   "execution_count": 9,
   "metadata": {},
   "outputs": [
    {
     "data": {
      "text/plain": [
       "threat\n",
       "0    478\n",
       "1    478\n",
       "dtype: int64"
      ]
     },
     "execution_count": 9,
     "metadata": {},
     "output_type": "execute_result"
    }
   ],
   "source": [
    "data.groupby(target).size()"
   ]
  },
  {
   "cell_type": "markdown",
   "metadata": {},
   "source": [
    "# Pre-processing"
   ]
  },
  {
   "cell_type": "code",
   "execution_count": 10,
   "metadata": {},
   "outputs": [],
   "source": [
    "stopwd = set(stopwords.words(\"english\"))\n",
    "punctuations = set(string.punctuation)"
   ]
  },
  {
   "cell_type": "code",
   "execution_count": 11,
   "metadata": {},
   "outputs": [],
   "source": [
    "def clean(doc):\n",
    "    stopwd_free = \" \".join([i for i in doc.lower().split() if i not in stopwd])\n",
    "    punc_free = \"\".join(i for i in stopwd_free if i not in punctuations)\n",
    "    num_free = \"\".join(i for i in punc_free if not i.isdigit())\n",
    "    return num_free"
   ]
  },
  {
   "cell_type": "code",
   "execution_count": 12,
   "metadata": {},
   "outputs": [],
   "source": [
    "data_corpus = [clean(data.iloc[i,1]) for i in range(0, data.shape[0])]"
   ]
  },
  {
   "cell_type": "code",
   "execution_count": 13,
   "metadata": {},
   "outputs": [],
   "source": [
    "data['comment_text'] = data_corpus"
   ]
  },
  {
   "cell_type": "code",
   "execution_count": 14,
   "metadata": {},
   "outputs": [],
   "source": [
    "vectorizer = CountVectorizer(min_df=2, max_features=N)\n",
    "vec = vectorizer.fit(data['comment_text'])"
   ]
  },
  {
   "cell_type": "code",
   "execution_count": 15,
   "metadata": {},
   "outputs": [
    {
     "data": {
      "text/plain": [
       "(956, 2494)"
      ]
     },
     "execution_count": 15,
     "metadata": {},
     "output_type": "execute_result"
    }
   ],
   "source": [
    "X = vec.transform(data['comment_text'])\n",
    "X.shape"
   ]
  },
  {
   "cell_type": "code",
   "execution_count": 16,
   "metadata": {},
   "outputs": [
    {
     "data": {
      "text/plain": [
       "2494"
      ]
     },
     "execution_count": 16,
     "metadata": {},
     "output_type": "execute_result"
    }
   ],
   "source": [
    "train_tdm_all_features = vec.get_feature_names()           # <<=====\n",
    "len(train_tdm_all_features)"
   ]
  },
  {
   "cell_type": "code",
   "execution_count": 17,
   "metadata": {},
   "outputs": [],
   "source": [
    "df_tdm = pd.DataFrame(X.toarray(), columns=vec.get_feature_names())"
   ]
  },
  {
   "cell_type": "code",
   "execution_count": 18,
   "metadata": {},
   "outputs": [],
   "source": [
    "df_tdm[target] = data[target]\n",
    "df_tdm[target] = np.where(df_tdm[target] == 0.0, 0, 1)"
   ]
  },
  {
   "cell_type": "code",
   "execution_count": 19,
   "metadata": {},
   "outputs": [
    {
     "data": {
      "text/html": [
       "<div>\n",
       "<style scoped>\n",
       "    .dataframe tbody tr th:only-of-type {\n",
       "        vertical-align: middle;\n",
       "    }\n",
       "\n",
       "    .dataframe tbody tr th {\n",
       "        vertical-align: top;\n",
       "    }\n",
       "\n",
       "    .dataframe thead th {\n",
       "        text-align: right;\n",
       "    }\n",
       "</style>\n",
       "<table border=\"1\" class=\"dataframe\">\n",
       "  <thead>\n",
       "    <tr style=\"text-align: right;\">\n",
       "      <th></th>\n",
       "      <th>able</th>\n",
       "      <th>about</th>\n",
       "      <th>above</th>\n",
       "      <th>absence</th>\n",
       "      <th>absolutely</th>\n",
       "      <th>abuse</th>\n",
       "      <th>abused</th>\n",
       "      <th>ac</th>\n",
       "      <th>academic</th>\n",
       "      <th>accept</th>\n",
       "      <th>...</th>\n",
       "      <th>ŵhen</th>\n",
       "      <th>ŵhere</th>\n",
       "      <th>ŵill</th>\n",
       "      <th>ŷou</th>\n",
       "      <th>ŷour</th>\n",
       "      <th>ṃake</th>\n",
       "      <th>ṃaśţurbaţion</th>\n",
       "      <th>ṃuţilaţe</th>\n",
       "      <th>ṗroçeśś</th>\n",
       "      <th>ṗull</th>\n",
       "    </tr>\n",
       "  </thead>\n",
       "  <tbody>\n",
       "    <tr>\n",
       "      <th>0</th>\n",
       "      <td>0</td>\n",
       "      <td>0</td>\n",
       "      <td>0</td>\n",
       "      <td>0</td>\n",
       "      <td>0</td>\n",
       "      <td>0</td>\n",
       "      <td>0</td>\n",
       "      <td>0</td>\n",
       "      <td>0</td>\n",
       "      <td>0</td>\n",
       "      <td>...</td>\n",
       "      <td>0</td>\n",
       "      <td>0</td>\n",
       "      <td>0</td>\n",
       "      <td>0</td>\n",
       "      <td>0</td>\n",
       "      <td>0</td>\n",
       "      <td>0</td>\n",
       "      <td>0</td>\n",
       "      <td>0</td>\n",
       "      <td>0</td>\n",
       "    </tr>\n",
       "    <tr>\n",
       "      <th>1</th>\n",
       "      <td>0</td>\n",
       "      <td>0</td>\n",
       "      <td>0</td>\n",
       "      <td>0</td>\n",
       "      <td>0</td>\n",
       "      <td>0</td>\n",
       "      <td>0</td>\n",
       "      <td>0</td>\n",
       "      <td>0</td>\n",
       "      <td>0</td>\n",
       "      <td>...</td>\n",
       "      <td>0</td>\n",
       "      <td>0</td>\n",
       "      <td>0</td>\n",
       "      <td>0</td>\n",
       "      <td>0</td>\n",
       "      <td>0</td>\n",
       "      <td>0</td>\n",
       "      <td>0</td>\n",
       "      <td>0</td>\n",
       "      <td>0</td>\n",
       "    </tr>\n",
       "    <tr>\n",
       "      <th>2</th>\n",
       "      <td>0</td>\n",
       "      <td>0</td>\n",
       "      <td>0</td>\n",
       "      <td>0</td>\n",
       "      <td>0</td>\n",
       "      <td>0</td>\n",
       "      <td>0</td>\n",
       "      <td>0</td>\n",
       "      <td>0</td>\n",
       "      <td>0</td>\n",
       "      <td>...</td>\n",
       "      <td>0</td>\n",
       "      <td>0</td>\n",
       "      <td>0</td>\n",
       "      <td>0</td>\n",
       "      <td>0</td>\n",
       "      <td>0</td>\n",
       "      <td>0</td>\n",
       "      <td>0</td>\n",
       "      <td>0</td>\n",
       "      <td>0</td>\n",
       "    </tr>\n",
       "    <tr>\n",
       "      <th>3</th>\n",
       "      <td>0</td>\n",
       "      <td>0</td>\n",
       "      <td>0</td>\n",
       "      <td>0</td>\n",
       "      <td>0</td>\n",
       "      <td>0</td>\n",
       "      <td>0</td>\n",
       "      <td>0</td>\n",
       "      <td>0</td>\n",
       "      <td>0</td>\n",
       "      <td>...</td>\n",
       "      <td>0</td>\n",
       "      <td>0</td>\n",
       "      <td>0</td>\n",
       "      <td>0</td>\n",
       "      <td>0</td>\n",
       "      <td>0</td>\n",
       "      <td>0</td>\n",
       "      <td>0</td>\n",
       "      <td>0</td>\n",
       "      <td>0</td>\n",
       "    </tr>\n",
       "    <tr>\n",
       "      <th>4</th>\n",
       "      <td>0</td>\n",
       "      <td>0</td>\n",
       "      <td>0</td>\n",
       "      <td>0</td>\n",
       "      <td>0</td>\n",
       "      <td>0</td>\n",
       "      <td>0</td>\n",
       "      <td>0</td>\n",
       "      <td>0</td>\n",
       "      <td>0</td>\n",
       "      <td>...</td>\n",
       "      <td>0</td>\n",
       "      <td>0</td>\n",
       "      <td>0</td>\n",
       "      <td>0</td>\n",
       "      <td>0</td>\n",
       "      <td>0</td>\n",
       "      <td>0</td>\n",
       "      <td>0</td>\n",
       "      <td>0</td>\n",
       "      <td>0</td>\n",
       "    </tr>\n",
       "  </tbody>\n",
       "</table>\n",
       "<p>5 rows × 2494 columns</p>\n",
       "</div>"
      ],
      "text/plain": [
       "   able  about  above  absence  absolutely  abuse  abused  ac  academic  \\\n",
       "0     0      0      0        0           0      0       0   0         0   \n",
       "1     0      0      0        0           0      0       0   0         0   \n",
       "2     0      0      0        0           0      0       0   0         0   \n",
       "3     0      0      0        0           0      0       0   0         0   \n",
       "4     0      0      0        0           0      0       0   0         0   \n",
       "\n",
       "   accept  ...   ŵhen  ŵhere  ŵill  ŷou  ŷour  ṃake  ṃaśţurbaţion  ṃuţilaţe  \\\n",
       "0       0  ...      0      0     0    0     0     0             0         0   \n",
       "1       0  ...      0      0     0    0     0     0             0         0   \n",
       "2       0  ...      0      0     0    0     0     0             0         0   \n",
       "3       0  ...      0      0     0    0     0     0             0         0   \n",
       "4       0  ...      0      0     0    0     0     0             0         0   \n",
       "\n",
       "   ṗroçeśś  ṗull  \n",
       "0        0     0  \n",
       "1        0     0  \n",
       "2        0     0  \n",
       "3        0     0  \n",
       "4        0     0  \n",
       "\n",
       "[5 rows x 2494 columns]"
      ]
     },
     "execution_count": 19,
     "metadata": {},
     "output_type": "execute_result"
    }
   ],
   "source": [
    "df_tdm['id'] = id_column\n",
    "df_tdm.head()"
   ]
  },
  {
   "cell_type": "markdown",
   "metadata": {},
   "source": [
    "# Splitting into train and test data"
   ]
  },
  {
   "cell_type": "code",
   "execution_count": 20,
   "metadata": {},
   "outputs": [
    {
     "data": {
      "text/html": [
       "<div>\n",
       "<style scoped>\n",
       "    .dataframe tbody tr th:only-of-type {\n",
       "        vertical-align: middle;\n",
       "    }\n",
       "\n",
       "    .dataframe tbody tr th {\n",
       "        vertical-align: top;\n",
       "    }\n",
       "\n",
       "    .dataframe thead th {\n",
       "        text-align: right;\n",
       "    }\n",
       "</style>\n",
       "<table border=\"1\" class=\"dataframe\">\n",
       "  <thead>\n",
       "    <tr style=\"text-align: right;\">\n",
       "      <th></th>\n",
       "      <th>able</th>\n",
       "      <th>about</th>\n",
       "      <th>above</th>\n",
       "      <th>absence</th>\n",
       "      <th>absolutely</th>\n",
       "      <th>abuse</th>\n",
       "      <th>abused</th>\n",
       "      <th>ac</th>\n",
       "      <th>academic</th>\n",
       "      <th>accept</th>\n",
       "      <th>...</th>\n",
       "      <th>ŵhen</th>\n",
       "      <th>ŵhere</th>\n",
       "      <th>ŵill</th>\n",
       "      <th>ŷou</th>\n",
       "      <th>ŷour</th>\n",
       "      <th>ṃake</th>\n",
       "      <th>ṃaśţurbaţion</th>\n",
       "      <th>ṃuţilaţe</th>\n",
       "      <th>ṗroçeśś</th>\n",
       "      <th>ṗull</th>\n",
       "    </tr>\n",
       "  </thead>\n",
       "  <tbody>\n",
       "    <tr>\n",
       "      <th>525</th>\n",
       "      <td>0</td>\n",
       "      <td>0</td>\n",
       "      <td>0</td>\n",
       "      <td>0</td>\n",
       "      <td>0</td>\n",
       "      <td>0</td>\n",
       "      <td>0</td>\n",
       "      <td>0</td>\n",
       "      <td>0</td>\n",
       "      <td>0</td>\n",
       "      <td>...</td>\n",
       "      <td>0</td>\n",
       "      <td>0</td>\n",
       "      <td>0</td>\n",
       "      <td>0</td>\n",
       "      <td>0</td>\n",
       "      <td>0</td>\n",
       "      <td>0</td>\n",
       "      <td>0</td>\n",
       "      <td>0</td>\n",
       "      <td>0</td>\n",
       "    </tr>\n",
       "    <tr>\n",
       "      <th>473</th>\n",
       "      <td>0</td>\n",
       "      <td>0</td>\n",
       "      <td>0</td>\n",
       "      <td>0</td>\n",
       "      <td>0</td>\n",
       "      <td>0</td>\n",
       "      <td>0</td>\n",
       "      <td>0</td>\n",
       "      <td>0</td>\n",
       "      <td>0</td>\n",
       "      <td>...</td>\n",
       "      <td>0</td>\n",
       "      <td>0</td>\n",
       "      <td>0</td>\n",
       "      <td>0</td>\n",
       "      <td>0</td>\n",
       "      <td>0</td>\n",
       "      <td>0</td>\n",
       "      <td>0</td>\n",
       "      <td>0</td>\n",
       "      <td>0</td>\n",
       "    </tr>\n",
       "    <tr>\n",
       "      <th>228</th>\n",
       "      <td>0</td>\n",
       "      <td>0</td>\n",
       "      <td>0</td>\n",
       "      <td>0</td>\n",
       "      <td>0</td>\n",
       "      <td>0</td>\n",
       "      <td>0</td>\n",
       "      <td>0</td>\n",
       "      <td>0</td>\n",
       "      <td>0</td>\n",
       "      <td>...</td>\n",
       "      <td>0</td>\n",
       "      <td>0</td>\n",
       "      <td>0</td>\n",
       "      <td>0</td>\n",
       "      <td>0</td>\n",
       "      <td>0</td>\n",
       "      <td>0</td>\n",
       "      <td>0</td>\n",
       "      <td>0</td>\n",
       "      <td>0</td>\n",
       "    </tr>\n",
       "    <tr>\n",
       "      <th>790</th>\n",
       "      <td>0</td>\n",
       "      <td>0</td>\n",
       "      <td>0</td>\n",
       "      <td>0</td>\n",
       "      <td>0</td>\n",
       "      <td>0</td>\n",
       "      <td>0</td>\n",
       "      <td>0</td>\n",
       "      <td>0</td>\n",
       "      <td>0</td>\n",
       "      <td>...</td>\n",
       "      <td>0</td>\n",
       "      <td>0</td>\n",
       "      <td>0</td>\n",
       "      <td>0</td>\n",
       "      <td>0</td>\n",
       "      <td>0</td>\n",
       "      <td>0</td>\n",
       "      <td>0</td>\n",
       "      <td>0</td>\n",
       "      <td>0</td>\n",
       "    </tr>\n",
       "    <tr>\n",
       "      <th>60</th>\n",
       "      <td>0</td>\n",
       "      <td>0</td>\n",
       "      <td>0</td>\n",
       "      <td>0</td>\n",
       "      <td>0</td>\n",
       "      <td>0</td>\n",
       "      <td>0</td>\n",
       "      <td>0</td>\n",
       "      <td>0</td>\n",
       "      <td>0</td>\n",
       "      <td>...</td>\n",
       "      <td>0</td>\n",
       "      <td>0</td>\n",
       "      <td>0</td>\n",
       "      <td>0</td>\n",
       "      <td>0</td>\n",
       "      <td>0</td>\n",
       "      <td>0</td>\n",
       "      <td>0</td>\n",
       "      <td>0</td>\n",
       "      <td>0</td>\n",
       "    </tr>\n",
       "  </tbody>\n",
       "</table>\n",
       "<p>5 rows × 2494 columns</p>\n",
       "</div>"
      ],
      "text/plain": [
       "     able  about  above  absence  absolutely  abuse  abused  ac  academic  \\\n",
       "525     0      0      0        0           0      0       0   0         0   \n",
       "473     0      0      0        0           0      0       0   0         0   \n",
       "228     0      0      0        0           0      0       0   0         0   \n",
       "790     0      0      0        0           0      0       0   0         0   \n",
       "60      0      0      0        0           0      0       0   0         0   \n",
       "\n",
       "     accept  ...   ŵhen  ŵhere  ŵill  ŷou  ŷour  ṃake  ṃaśţurbaţion  ṃuţilaţe  \\\n",
       "525       0  ...      0      0     0    0     0     0             0         0   \n",
       "473       0  ...      0      0     0    0     0     0             0         0   \n",
       "228       0  ...      0      0     0    0     0     0             0         0   \n",
       "790       0  ...      0      0     0    0     0     0             0         0   \n",
       "60        0  ...      0      0     0    0     0     0             0         0   \n",
       "\n",
       "     ṗroçeśś  ṗull  \n",
       "525        0     0  \n",
       "473        0     0  \n",
       "228        0     0  \n",
       "790        0     0  \n",
       "60         0     0  \n",
       "\n",
       "[5 rows x 2494 columns]"
      ]
     },
     "execution_count": 20,
     "metadata": {},
     "output_type": "execute_result"
    }
   ],
   "source": [
    "training_data = df_tdm.sample(n= int(0.8*(df_tdm.shape[0])), random_state=7)\n",
    "training_data.head()"
   ]
  },
  {
   "cell_type": "code",
   "execution_count": 21,
   "metadata": {},
   "outputs": [
    {
     "data": {
      "text/html": [
       "<div>\n",
       "<style scoped>\n",
       "    .dataframe tbody tr th:only-of-type {\n",
       "        vertical-align: middle;\n",
       "    }\n",
       "\n",
       "    .dataframe tbody tr th {\n",
       "        vertical-align: top;\n",
       "    }\n",
       "\n",
       "    .dataframe thead th {\n",
       "        text-align: right;\n",
       "    }\n",
       "</style>\n",
       "<table border=\"1\" class=\"dataframe\">\n",
       "  <thead>\n",
       "    <tr style=\"text-align: right;\">\n",
       "      <th></th>\n",
       "      <th>able</th>\n",
       "      <th>about</th>\n",
       "      <th>above</th>\n",
       "      <th>absence</th>\n",
       "      <th>absolutely</th>\n",
       "      <th>abuse</th>\n",
       "      <th>abused</th>\n",
       "      <th>ac</th>\n",
       "      <th>academic</th>\n",
       "      <th>accept</th>\n",
       "      <th>...</th>\n",
       "      <th>ŵhen</th>\n",
       "      <th>ŵhere</th>\n",
       "      <th>ŵill</th>\n",
       "      <th>ŷou</th>\n",
       "      <th>ŷour</th>\n",
       "      <th>ṃake</th>\n",
       "      <th>ṃaśţurbaţion</th>\n",
       "      <th>ṃuţilaţe</th>\n",
       "      <th>ṗroçeśś</th>\n",
       "      <th>ṗull</th>\n",
       "    </tr>\n",
       "  </thead>\n",
       "  <tbody>\n",
       "    <tr>\n",
       "      <th>5</th>\n",
       "      <td>0</td>\n",
       "      <td>0</td>\n",
       "      <td>0</td>\n",
       "      <td>0</td>\n",
       "      <td>0</td>\n",
       "      <td>0</td>\n",
       "      <td>0</td>\n",
       "      <td>0</td>\n",
       "      <td>0</td>\n",
       "      <td>0</td>\n",
       "      <td>...</td>\n",
       "      <td>0</td>\n",
       "      <td>0</td>\n",
       "      <td>0</td>\n",
       "      <td>0</td>\n",
       "      <td>0</td>\n",
       "      <td>0</td>\n",
       "      <td>0</td>\n",
       "      <td>0</td>\n",
       "      <td>0</td>\n",
       "      <td>0</td>\n",
       "    </tr>\n",
       "    <tr>\n",
       "      <th>6</th>\n",
       "      <td>0</td>\n",
       "      <td>0</td>\n",
       "      <td>0</td>\n",
       "      <td>0</td>\n",
       "      <td>0</td>\n",
       "      <td>0</td>\n",
       "      <td>0</td>\n",
       "      <td>0</td>\n",
       "      <td>0</td>\n",
       "      <td>0</td>\n",
       "      <td>...</td>\n",
       "      <td>0</td>\n",
       "      <td>0</td>\n",
       "      <td>0</td>\n",
       "      <td>0</td>\n",
       "      <td>0</td>\n",
       "      <td>0</td>\n",
       "      <td>0</td>\n",
       "      <td>0</td>\n",
       "      <td>0</td>\n",
       "      <td>0</td>\n",
       "    </tr>\n",
       "    <tr>\n",
       "      <th>12</th>\n",
       "      <td>0</td>\n",
       "      <td>0</td>\n",
       "      <td>0</td>\n",
       "      <td>0</td>\n",
       "      <td>0</td>\n",
       "      <td>0</td>\n",
       "      <td>0</td>\n",
       "      <td>0</td>\n",
       "      <td>0</td>\n",
       "      <td>0</td>\n",
       "      <td>...</td>\n",
       "      <td>0</td>\n",
       "      <td>0</td>\n",
       "      <td>0</td>\n",
       "      <td>0</td>\n",
       "      <td>0</td>\n",
       "      <td>0</td>\n",
       "      <td>0</td>\n",
       "      <td>0</td>\n",
       "      <td>0</td>\n",
       "      <td>0</td>\n",
       "    </tr>\n",
       "    <tr>\n",
       "      <th>19</th>\n",
       "      <td>0</td>\n",
       "      <td>0</td>\n",
       "      <td>0</td>\n",
       "      <td>0</td>\n",
       "      <td>0</td>\n",
       "      <td>0</td>\n",
       "      <td>0</td>\n",
       "      <td>0</td>\n",
       "      <td>0</td>\n",
       "      <td>0</td>\n",
       "      <td>...</td>\n",
       "      <td>0</td>\n",
       "      <td>0</td>\n",
       "      <td>0</td>\n",
       "      <td>0</td>\n",
       "      <td>0</td>\n",
       "      <td>0</td>\n",
       "      <td>0</td>\n",
       "      <td>0</td>\n",
       "      <td>0</td>\n",
       "      <td>0</td>\n",
       "    </tr>\n",
       "    <tr>\n",
       "      <th>21</th>\n",
       "      <td>0</td>\n",
       "      <td>0</td>\n",
       "      <td>0</td>\n",
       "      <td>0</td>\n",
       "      <td>0</td>\n",
       "      <td>0</td>\n",
       "      <td>0</td>\n",
       "      <td>0</td>\n",
       "      <td>0</td>\n",
       "      <td>0</td>\n",
       "      <td>...</td>\n",
       "      <td>0</td>\n",
       "      <td>0</td>\n",
       "      <td>0</td>\n",
       "      <td>0</td>\n",
       "      <td>0</td>\n",
       "      <td>0</td>\n",
       "      <td>0</td>\n",
       "      <td>0</td>\n",
       "      <td>0</td>\n",
       "      <td>0</td>\n",
       "    </tr>\n",
       "  </tbody>\n",
       "</table>\n",
       "<p>5 rows × 2494 columns</p>\n",
       "</div>"
      ],
      "text/plain": [
       "    able  about  above  absence  absolutely  abuse  abused  ac  academic  \\\n",
       "5      0      0      0        0           0      0       0   0         0   \n",
       "6      0      0      0        0           0      0       0   0         0   \n",
       "12     0      0      0        0           0      0       0   0         0   \n",
       "19     0      0      0        0           0      0       0   0         0   \n",
       "21     0      0      0        0           0      0       0   0         0   \n",
       "\n",
       "    accept  ...   ŵhen  ŵhere  ŵill  ŷou  ŷour  ṃake  ṃaśţurbaţion  ṃuţilaţe  \\\n",
       "5        0  ...      0      0     0    0     0     0             0         0   \n",
       "6        0  ...      0      0     0    0     0     0             0         0   \n",
       "12       0  ...      0      0     0    0     0     0             0         0   \n",
       "19       0  ...      0      0     0    0     0     0             0         0   \n",
       "21       0  ...      0      0     0    0     0     0             0         0   \n",
       "\n",
       "    ṗroçeśś  ṗull  \n",
       "5         0     0  \n",
       "6         0     0  \n",
       "12        0     0  \n",
       "19        0     0  \n",
       "21        0     0  \n",
       "\n",
       "[5 rows x 2494 columns]"
      ]
     },
     "execution_count": 21,
     "metadata": {},
     "output_type": "execute_result"
    }
   ],
   "source": [
    "index_of_training_data = training_data.index\n",
    "index_of_testing_data = [index for index in df_tdm.index if index not in index_of_training_data]\n",
    "test_data = df_tdm.loc[index_of_testing_data]\n",
    "test_data.head()"
   ]
  },
  {
   "cell_type": "code",
   "execution_count": 22,
   "metadata": {},
   "outputs": [
    {
     "data": {
      "text/plain": [
       "threat\n",
       "0    478\n",
       "1    478\n",
       "dtype: int64"
      ]
     },
     "execution_count": 22,
     "metadata": {},
     "output_type": "execute_result"
    }
   ],
   "source": [
    "df_tdm.groupby([target]).size()"
   ]
  },
  {
   "cell_type": "code",
   "execution_count": 23,
   "metadata": {},
   "outputs": [
    {
     "data": {
      "text/plain": [
       "threat\n",
       "0    382\n",
       "1    382\n",
       "dtype: int64"
      ]
     },
     "execution_count": 23,
     "metadata": {},
     "output_type": "execute_result"
    }
   ],
   "source": [
    "training_data.groupby([target]).size()"
   ]
  },
  {
   "cell_type": "code",
   "execution_count": 24,
   "metadata": {},
   "outputs": [
    {
     "data": {
      "text/plain": [
       "threat\n",
       "0    96\n",
       "1    96\n",
       "dtype: int64"
      ]
     },
     "execution_count": 24,
     "metadata": {},
     "output_type": "execute_result"
    }
   ],
   "source": [
    "test_data.groupby([target]).size()"
   ]
  },
  {
   "cell_type": "markdown",
   "metadata": {},
   "source": [
    "# Creating Model"
   ]
  },
  {
   "cell_type": "code",
   "execution_count": 25,
   "metadata": {},
   "outputs": [
    {
     "data": {
      "text/plain": [
       "2492"
      ]
     },
     "execution_count": 25,
     "metadata": {},
     "output_type": "execute_result"
    }
   ],
   "source": [
    "predictors = [x for x in df_tdm.columns if x not in [target, 'id']]\n",
    "len(predictors)"
   ]
  },
  {
   "cell_type": "code",
   "execution_count": 28,
   "metadata": {},
   "outputs": [],
   "source": [
    "xgb_model01 = XGBClassifier(max_depth=5, learning_rate=0.1, n_estimators=1000, silent=False, \n",
    "                            objective='binary:logistic', n_jobs=-1, gamma=0, min_child_weight=1, \n",
    "                            subsample=0.8, colsample_bytree=0.8, seed=5)"
   ]
  },
  {
   "cell_type": "code",
   "execution_count": 29,
   "metadata": {},
   "outputs": [
    {
     "name": "stdout",
     "output_type": "stream",
     "text": [
      "[0]\ttrain-auc:0.815049+0.0204411\ttest-auc:0.795665+0.0351697\n",
      "[1]\ttrain-auc:0.852214+0.0120504\ttest-auc:0.833541+0.0402651\n",
      "[2]\ttrain-auc:0.873258+0.0113385\ttest-auc:0.854593+0.0452564\n",
      "[3]\ttrain-auc:0.883735+0.018683\ttest-auc:0.867135+0.0494122\n",
      "[4]\ttrain-auc:0.895032+0.0123685\ttest-auc:0.86967+0.0417376\n",
      "[5]\ttrain-auc:0.899274+0.0143179\ttest-auc:0.875353+0.0390632\n",
      "[6]\ttrain-auc:0.907854+0.00782168\ttest-auc:0.881207+0.0424568\n",
      "[7]\ttrain-auc:0.913757+0.00562567\ttest-auc:0.889279+0.0345866\n",
      "[8]\ttrain-auc:0.916271+0.00792071\ttest-auc:0.890394+0.034255\n",
      "[9]\ttrain-auc:0.925302+0.00654775\ttest-auc:0.896667+0.0359442\n",
      "[10]\ttrain-auc:0.928765+0.00632779\ttest-auc:0.898829+0.0340735\n",
      "[11]\ttrain-auc:0.931886+0.00977054\ttest-auc:0.902114+0.0344578\n",
      "[12]\ttrain-auc:0.933967+0.00661779\ttest-auc:0.902295+0.0336229\n",
      "[13]\ttrain-auc:0.936027+0.00546598\ttest-auc:0.906909+0.0309424\n",
      "[14]\ttrain-auc:0.939091+0.00516479\ttest-auc:0.911308+0.0272215\n",
      "[15]\ttrain-auc:0.941641+0.00431301\ttest-auc:0.914614+0.0272326\n",
      "[16]\ttrain-auc:0.942547+0.00482137\ttest-auc:0.914825+0.0284777\n",
      "[17]\ttrain-auc:0.943826+0.00337359\ttest-auc:0.915158+0.0305778\n",
      "[18]\ttrain-auc:0.945466+0.00308365\ttest-auc:0.915928+0.0301737\n",
      "[19]\ttrain-auc:0.946002+0.00331436\ttest-auc:0.917229+0.0290332\n",
      "[20]\ttrain-auc:0.948724+0.00473482\ttest-auc:0.91991+0.0286669\n",
      "[21]\ttrain-auc:0.950941+0.00367988\ttest-auc:0.920596+0.0280312\n",
      "[22]\ttrain-auc:0.952051+0.00444321\ttest-auc:0.920357+0.0274636\n",
      "[23]\ttrain-auc:0.953036+0.00469401\ttest-auc:0.921271+0.0259034\n",
      "[24]\ttrain-auc:0.953828+0.00446864\ttest-auc:0.923111+0.029261\n",
      "[25]\ttrain-auc:0.955538+0.00386389\ttest-auc:0.924427+0.0280195\n",
      "[26]\ttrain-auc:0.957255+0.00418208\ttest-auc:0.92468+0.0288387\n",
      "[27]\ttrain-auc:0.958335+0.00446394\ttest-auc:0.925502+0.0284914\n",
      "[28]\ttrain-auc:0.959211+0.00382334\ttest-auc:0.92586+0.0290651\n",
      "[29]\ttrain-auc:0.960557+0.00292875\ttest-auc:0.926609+0.0295316\n",
      "[30]\ttrain-auc:0.961191+0.00300318\ttest-auc:0.927171+0.0297062\n",
      "[31]\ttrain-auc:0.962781+0.00306455\ttest-auc:0.927278+0.0294315\n",
      "[32]\ttrain-auc:0.963363+0.00303366\ttest-auc:0.927092+0.0293978\n",
      "[33]\ttrain-auc:0.964329+0.00309469\ttest-auc:0.928195+0.0284433\n",
      "[34]\ttrain-auc:0.964552+0.00312703\ttest-auc:0.928589+0.0288055\n",
      "[35]\ttrain-auc:0.96538+0.00294064\ttest-auc:0.929045+0.0291666\n",
      "[36]\ttrain-auc:0.966145+0.00308369\ttest-auc:0.931427+0.0282931\n",
      "[37]\ttrain-auc:0.966534+0.00316173\ttest-auc:0.930942+0.027464\n",
      "[38]\ttrain-auc:0.967354+0.0028843\ttest-auc:0.931964+0.0260242\n",
      "[39]\ttrain-auc:0.967793+0.00267437\ttest-auc:0.931619+0.0257434\n",
      "[40]\ttrain-auc:0.968769+0.00269465\ttest-auc:0.932532+0.0257388\n",
      "[41]\ttrain-auc:0.96974+0.00227787\ttest-auc:0.9328+0.0260646\n",
      "[42]\ttrain-auc:0.97077+0.00246548\ttest-auc:0.932112+0.0263023\n",
      "[43]\ttrain-auc:0.971254+0.00229522\ttest-auc:0.93201+0.0263917\n",
      "[44]\ttrain-auc:0.971448+0.00237602\ttest-auc:0.931788+0.0275203\n",
      "[45]\ttrain-auc:0.972049+0.00263451\ttest-auc:0.932494+0.0269992\n",
      "[46]\ttrain-auc:0.972193+0.00258089\ttest-auc:0.932393+0.0267288\n",
      "[47]\ttrain-auc:0.972572+0.00232804\ttest-auc:0.933251+0.0266817\n",
      "[48]\ttrain-auc:0.972932+0.00247439\ttest-auc:0.934624+0.0266571\n",
      "[49]\ttrain-auc:0.97356+0.00257256\ttest-auc:0.934707+0.0268756\n",
      "[50]\ttrain-auc:0.973846+0.00258817\ttest-auc:0.934931+0.0266063\n",
      "[51]\ttrain-auc:0.974366+0.0024198\ttest-auc:0.934982+0.026572\n",
      "[52]\ttrain-auc:0.974686+0.00261046\ttest-auc:0.934435+0.0258529\n",
      "[53]\ttrain-auc:0.975237+0.00237017\ttest-auc:0.934574+0.025835\n",
      "[54]\ttrain-auc:0.975605+0.00270469\ttest-auc:0.933881+0.0264528\n",
      "[55]\ttrain-auc:0.975858+0.00278971\ttest-auc:0.933917+0.0257713\n",
      "[56]\ttrain-auc:0.975987+0.00285681\ttest-auc:0.934464+0.0255171\n",
      "[57]\ttrain-auc:0.976328+0.00278129\ttest-auc:0.934296+0.0260269\n",
      "[58]\ttrain-auc:0.976699+0.00271688\ttest-auc:0.934518+0.0260361\n",
      "[59]\ttrain-auc:0.976969+0.00300442\ttest-auc:0.934725+0.0258411\n",
      "[60]\ttrain-auc:0.977413+0.00287202\ttest-auc:0.934349+0.0262115\n",
      "[61]\ttrain-auc:0.977598+0.00289721\ttest-auc:0.934762+0.0260476\n",
      "[62]\ttrain-auc:0.977917+0.00291647\ttest-auc:0.93519+0.0261433\n",
      "[63]\ttrain-auc:0.978168+0.00280226\ttest-auc:0.935208+0.0255591\n",
      "[64]\ttrain-auc:0.978621+0.00286624\ttest-auc:0.93523+0.0251961\n",
      "[65]\ttrain-auc:0.978666+0.00267041\ttest-auc:0.935436+0.0250861\n",
      "[66]\ttrain-auc:0.978795+0.0026914\ttest-auc:0.935575+0.0254328\n",
      "[67]\ttrain-auc:0.979113+0.00253502\ttest-auc:0.935487+0.0254785\n",
      "[68]\ttrain-auc:0.979562+0.00237128\ttest-auc:0.935935+0.0252318\n",
      "[69]\ttrain-auc:0.979882+0.00236935\ttest-auc:0.936106+0.0248697\n",
      "[70]\ttrain-auc:0.980263+0.00249695\ttest-auc:0.93695+0.0246015\n",
      "[71]\ttrain-auc:0.980662+0.0026851\ttest-auc:0.936469+0.0255514\n",
      "[72]\ttrain-auc:0.980848+0.00264122\ttest-auc:0.936743+0.02562\n",
      "[73]\ttrain-auc:0.981045+0.00255842\ttest-auc:0.937188+0.0256678\n",
      "[74]\ttrain-auc:0.981185+0.00235385\ttest-auc:0.938099+0.0240897\n",
      "[75]\ttrain-auc:0.981367+0.00228011\ttest-auc:0.93748+0.024462\n",
      "[76]\ttrain-auc:0.981511+0.00239252\ttest-auc:0.93769+0.0244034\n",
      "[77]\ttrain-auc:0.981586+0.00239184\ttest-auc:0.938486+0.0248354\n",
      "[78]\ttrain-auc:0.981575+0.00236064\ttest-auc:0.93893+0.0246768\n",
      "[79]\ttrain-auc:0.981659+0.00250689\ttest-auc:0.939135+0.0249304\n",
      "[80]\ttrain-auc:0.981758+0.00253229\ttest-auc:0.939312+0.0254002\n",
      "[81]\ttrain-auc:0.981942+0.00245279\ttest-auc:0.939433+0.0249668\n",
      "[82]\ttrain-auc:0.982315+0.00235626\ttest-auc:0.94005+0.0244163\n",
      "[83]\ttrain-auc:0.982501+0.00241989\ttest-auc:0.94+0.0244426\n",
      "[84]\ttrain-auc:0.982753+0.00244923\ttest-auc:0.939654+0.0241702\n",
      "[85]\ttrain-auc:0.982788+0.00235105\ttest-auc:0.93955+0.0238675\n",
      "[86]\ttrain-auc:0.982849+0.00214802\ttest-auc:0.939718+0.0240399\n",
      "[87]\ttrain-auc:0.983049+0.00215681\ttest-auc:0.939754+0.024228\n",
      "[88]\ttrain-auc:0.983088+0.00215769\ttest-auc:0.93972+0.0243621\n",
      "[89]\ttrain-auc:0.983091+0.00218101\ttest-auc:0.939893+0.0242677\n",
      "[90]\ttrain-auc:0.983179+0.00213317\ttest-auc:0.940115+0.0242725\n",
      "[91]\ttrain-auc:0.983355+0.00207246\ttest-auc:0.939906+0.0245369\n",
      "[92]\ttrain-auc:0.983374+0.00218788\ttest-auc:0.939496+0.0246989\n",
      "[93]\ttrain-auc:0.983365+0.00201184\ttest-auc:0.939732+0.0244659\n",
      "[94]\ttrain-auc:0.983416+0.00194675\ttest-auc:0.939459+0.0241768\n",
      "[95]\ttrain-auc:0.983516+0.00191189\ttest-auc:0.939184+0.0244538\n",
      "[96]\ttrain-auc:0.98367+0.00203338\ttest-auc:0.939611+0.0244535\n",
      "[97]\ttrain-auc:0.983812+0.00197106\ttest-auc:0.939782+0.0241878\n",
      "[98]\ttrain-auc:0.983899+0.00196123\ttest-auc:0.939576+0.0239745\n",
      "[99]\ttrain-auc:0.984063+0.00201163\ttest-auc:0.939576+0.024023\n",
      "[100]\ttrain-auc:0.984269+0.00204595\ttest-auc:0.939679+0.02455\n",
      "[101]\ttrain-auc:0.984429+0.00204023\ttest-auc:0.939301+0.0246123\n",
      "[102]\ttrain-auc:0.984531+0.00204442\ttest-auc:0.939487+0.0246255\n",
      "[103]\ttrain-auc:0.984656+0.00190778\ttest-auc:0.940033+0.0240614\n",
      "[104]\ttrain-auc:0.984849+0.00201679\ttest-auc:0.940067+0.0239888\n",
      "[105]\ttrain-auc:0.984832+0.00195861\ttest-auc:0.940017+0.0239148\n",
      "[106]\ttrain-auc:0.985014+0.00181834\ttest-auc:0.940292+0.0239336\n",
      "[107]\ttrain-auc:0.985023+0.00188966\ttest-auc:0.940498+0.0235517\n",
      "[108]\ttrain-auc:0.985192+0.00189016\ttest-auc:0.940534+0.0235354\n",
      "[109]\ttrain-auc:0.985359+0.00180738\ttest-auc:0.940431+0.0234055\n",
      "[110]\ttrain-auc:0.985527+0.00177048\ttest-auc:0.940536+0.0235861\n",
      "[111]\ttrain-auc:0.985573+0.00181129\ttest-auc:0.940432+0.0236078\n",
      "[112]\ttrain-auc:0.985605+0.00183725\ttest-auc:0.940465+0.0233411\n",
      "[113]\ttrain-auc:0.985684+0.00179998\ttest-auc:0.940636+0.0230697\n",
      "[114]\ttrain-auc:0.985749+0.00180232\ttest-auc:0.940999+0.0231006\n",
      "[115]\ttrain-auc:0.985869+0.00182441\ttest-auc:0.940897+0.0227528\n",
      "[116]\ttrain-auc:0.985976+0.00183344\ttest-auc:0.941+0.0229086\n",
      "[117]\ttrain-auc:0.986022+0.00184859\ttest-auc:0.941171+0.0226712\n",
      "[118]\ttrain-auc:0.98609+0.00182411\ttest-auc:0.941035+0.0224347\n",
      "[119]\ttrain-auc:0.986107+0.00172291\ttest-auc:0.940932+0.0222755\n",
      "[120]\ttrain-auc:0.986156+0.00167125\ttest-auc:0.941154+0.0222583\n",
      "[121]\ttrain-auc:0.986194+0.00168249\ttest-auc:0.940912+0.0222299\n",
      "[122]\ttrain-auc:0.986236+0.00170815\ttest-auc:0.941083+0.0221705\n",
      "[123]\ttrain-auc:0.9863+0.00167026\ttest-auc:0.941375+0.0222715\n",
      "[124]\ttrain-auc:0.98637+0.00165565\ttest-auc:0.941307+0.0226604\n",
      "[125]\ttrain-auc:0.986464+0.00167667\ttest-auc:0.941204+0.022657\n",
      "[126]\ttrain-auc:0.98647+0.00161426\ttest-auc:0.941102+0.0224076\n",
      "[127]\ttrain-auc:0.986491+0.00166765\ttest-auc:0.941033+0.0220545\n",
      "[128]\ttrain-auc:0.986519+0.00169687\ttest-auc:0.941033+0.022134\n",
      "[129]\ttrain-auc:0.986597+0.00164484\ttest-auc:0.941+0.0221796\n",
      "[130]\ttrain-auc:0.986644+0.00164332\ttest-auc:0.940895+0.022423\n"
     ]
    },
    {
     "name": "stdout",
     "output_type": "stream",
     "text": [
      "[131]\ttrain-auc:0.986628+0.00163499\ttest-auc:0.940724+0.0226861\n",
      "[132]\ttrain-auc:0.98663+0.00163808\ttest-auc:0.94038+0.0229666\n",
      "[133]\ttrain-auc:0.986692+0.00173452\ttest-auc:0.94038+0.0228077\n",
      "[134]\ttrain-auc:0.986707+0.00172249\ttest-auc:0.940518+0.022635\n",
      "[135]\ttrain-auc:0.98675+0.00168861\ttest-auc:0.940654+0.0224311\n",
      "[136]\ttrain-auc:0.986857+0.00171979\ttest-auc:0.940689+0.0222963\n",
      "[137]\ttrain-auc:0.986852+0.00170186\ttest-auc:0.940587+0.0221115\n",
      "[138]\ttrain-auc:0.986917+0.00171992\ttest-auc:0.940758+0.0222217\n",
      "[139]\ttrain-auc:0.986951+0.00171177\ttest-auc:0.940896+0.022175\n",
      "[140]\ttrain-auc:0.987038+0.00169182\ttest-auc:0.940554+0.0224241\n",
      "[141]\ttrain-auc:0.987087+0.00170053\ttest-auc:0.940347+0.0221732\n",
      "[142]\ttrain-auc:0.987099+0.00178703\ttest-auc:0.940211+0.0220839\n",
      "[143]\ttrain-auc:0.987171+0.00179937\ttest-auc:0.940005+0.0219614\n",
      "[144]\ttrain-auc:0.987215+0.00176693\ttest-auc:0.93997+0.0217686\n",
      "[145]\ttrain-auc:0.987214+0.00182006\ttest-auc:0.940314+0.0217563\n",
      "[146]\ttrain-auc:0.987267+0.00181047\ttest-auc:0.940313+0.0217258\n",
      "[147]\ttrain-auc:0.987309+0.00186217\ttest-auc:0.940278+0.0217276\n",
      "[148]\ttrain-auc:0.987302+0.00178484\ttest-auc:0.940244+0.0215231\n",
      "[149]\ttrain-auc:0.987328+0.00172262\ttest-auc:0.940242+0.0216597\n",
      "[150]\ttrain-auc:0.987352+0.00173929\ttest-auc:0.940104+0.0218317\n",
      "[151]\ttrain-auc:0.987578+0.00178395\ttest-auc:0.940602+0.0214346\n",
      "[152]\ttrain-auc:0.987623+0.00176436\ttest-auc:0.940808+0.0216729\n",
      "[153]\ttrain-auc:0.987653+0.00178908\ttest-auc:0.940773+0.0216243\n",
      "[154]\ttrain-auc:0.987743+0.0017482\ttest-auc:0.940774+0.0215101\n",
      "[155]\ttrain-auc:0.987738+0.00171342\ttest-auc:0.940586+0.0215755\n",
      "[156]\ttrain-auc:0.987807+0.00176031\ttest-auc:0.940551+0.0216955\n",
      "[157]\ttrain-auc:0.987916+0.00171393\ttest-auc:0.940482+0.0218066\n",
      "[158]\ttrain-auc:0.988013+0.00173692\ttest-auc:0.940619+0.0220171\n",
      "[159]\ttrain-auc:0.988073+0.00174078\ttest-auc:0.940929+0.021984\n",
      "[160]\ttrain-auc:0.988027+0.00184375\ttest-auc:0.940723+0.0219622\n",
      "[161]\ttrain-auc:0.988042+0.00177255\ttest-auc:0.941066+0.022006\n",
      "[162]\ttrain-auc:0.988126+0.00170171\ttest-auc:0.941102+0.0217675\n",
      "[163]\ttrain-auc:0.988126+0.00172971\ttest-auc:0.941171+0.0218776\n",
      "[164]\ttrain-auc:0.988162+0.00171961\ttest-auc:0.941102+0.0219716\n",
      "[165]\ttrain-auc:0.988261+0.0017262\ttest-auc:0.941138+0.0217695\n",
      "[166]\ttrain-auc:0.988349+0.00173966\ttest-auc:0.941275+0.0217702\n",
      "[167]\ttrain-auc:0.988327+0.00173859\ttest-auc:0.941378+0.0218238\n",
      "[168]\ttrain-auc:0.98834+0.00170799\ttest-auc:0.941447+0.0217861\n",
      "[169]\ttrain-auc:0.988269+0.00176024\ttest-auc:0.941171+0.0218536\n",
      "[170]\ttrain-auc:0.988293+0.00174576\ttest-auc:0.940999+0.0220591\n",
      "[171]\ttrain-auc:0.988278+0.00175926\ttest-auc:0.941205+0.0219484\n",
      "[172]\ttrain-auc:0.988287+0.00174929\ttest-auc:0.940964+0.0222357\n",
      "[173]\ttrain-auc:0.988281+0.00173816\ttest-auc:0.940997+0.0221897\n",
      "[174]\ttrain-auc:0.988228+0.00170006\ttest-auc:0.941342+0.0222937\n",
      "[175]\ttrain-auc:0.9882+0.00170767\ttest-auc:0.941068+0.0223029\n",
      "[176]\ttrain-auc:0.98826+0.00165794\ttest-auc:0.941103+0.0221466\n",
      "[177]\ttrain-auc:0.988315+0.001758\ttest-auc:0.9411+0.0221212\n",
      "[178]\ttrain-auc:0.988375+0.00178434\ttest-auc:0.941203+0.0221979\n",
      "[179]\ttrain-auc:0.988352+0.00178435\ttest-auc:0.941066+0.0221146\n",
      "[180]\ttrain-auc:0.988427+0.00177166\ttest-auc:0.940687+0.0220768\n",
      "[181]\ttrain-auc:0.988495+0.00173535\ttest-auc:0.940756+0.022087\n",
      "[182]\ttrain-auc:0.988597+0.00169937\ttest-auc:0.940686+0.0221861\n",
      "[183]\ttrain-auc:0.988595+0.00170218\ttest-auc:0.940891+0.0223144\n",
      "[184]\ttrain-auc:0.988623+0.00167168\ttest-auc:0.941338+0.0226651\n",
      "[185]\ttrain-auc:0.988606+0.00167358\ttest-auc:0.941407+0.0228312\n",
      "[186]\ttrain-auc:0.988644+0.00161833\ttest-auc:0.941546+0.02273\n",
      "[187]\ttrain-auc:0.988651+0.00161828\ttest-auc:0.941579+0.022595\n",
      "[188]\ttrain-auc:0.988678+0.00158612\ttest-auc:0.941545+0.0228264\n",
      "[189]\ttrain-auc:0.988758+0.0014934\ttest-auc:0.941306+0.0228729\n",
      "[190]\ttrain-auc:0.988758+0.00148031\ttest-auc:0.941444+0.0228289\n",
      "[191]\ttrain-auc:0.988723+0.00150717\ttest-auc:0.941616+0.0225489\n",
      "[192]\ttrain-auc:0.988772+0.00148468\ttest-auc:0.941753+0.0227133\n",
      "[193]\ttrain-auc:0.9888+0.00145071\ttest-auc:0.941821+0.0229149\n",
      "[194]\ttrain-auc:0.988832+0.00145395\ttest-auc:0.941787+0.0229429\n",
      "[195]\ttrain-auc:0.98887+0.00143581\ttest-auc:0.941579+0.0227981\n",
      "[196]\ttrain-auc:0.988874+0.00149029\ttest-auc:0.941509+0.0231247\n",
      "[197]\ttrain-auc:0.988881+0.00149059\ttest-auc:0.941542+0.0227582\n",
      "[198]\ttrain-auc:0.988849+0.00149071\ttest-auc:0.941715+0.0227332\n",
      "[199]\ttrain-auc:0.988883+0.00147644\ttest-auc:0.941715+0.0227971\n",
      "[200]\ttrain-auc:0.988951+0.00145078\ttest-auc:0.941786+0.0226543\n",
      "[201]\ttrain-auc:0.988945+0.00140633\ttest-auc:0.941614+0.022708\n",
      "[202]\ttrain-auc:0.988958+0.00141558\ttest-auc:0.941679+0.0227692\n",
      "[203]\ttrain-auc:0.988979+0.00141792\ttest-auc:0.941439+0.0225426\n",
      "[204]\ttrain-auc:0.988981+0.00140857\ttest-auc:0.941406+0.0225363\n",
      "[205]\ttrain-auc:0.989007+0.00141921\ttest-auc:0.941781+0.0228696\n",
      "[206]\ttrain-auc:0.989026+0.00138185\ttest-auc:0.941508+0.022625\n",
      "[207]\ttrain-auc:0.989033+0.00132422\ttest-auc:0.94147+0.0226783\n",
      "[208]\ttrain-auc:0.989074+0.00126337\ttest-auc:0.941435+0.0227016\n",
      "[209]\ttrain-auc:0.988995+0.00123295\ttest-auc:0.941435+0.0226603\n",
      "[210]\ttrain-auc:0.989034+0.00125403\ttest-auc:0.941368+0.0224059\n",
      "[211]\ttrain-auc:0.989102+0.00126256\ttest-auc:0.941265+0.0224965\n",
      "[212]\ttrain-auc:0.989115+0.00134964\ttest-auc:0.941505+0.0226347\n",
      "[213]\ttrain-auc:0.989092+0.00130991\ttest-auc:0.941643+0.0225829\n",
      "[214]\ttrain-auc:0.98907+0.00133201\ttest-auc:0.941902+0.0225159\n",
      "[215]\ttrain-auc:0.989111+0.00138549\ttest-auc:0.941833+0.0224829\n",
      "[216]\ttrain-auc:0.98915+0.00137949\ttest-auc:0.941523+0.02248\n",
      "[217]\ttrain-auc:0.989111+0.00141177\ttest-auc:0.941351+0.0223525\n",
      "[218]\ttrain-auc:0.989149+0.00139684\ttest-auc:0.941454+0.0225739\n",
      "[219]\ttrain-auc:0.989186+0.00136783\ttest-auc:0.941386+0.0224778\n",
      "[220]\ttrain-auc:0.989166+0.00139039\ttest-auc:0.941522+0.0226488\n",
      "[221]\ttrain-auc:0.989158+0.00137831\ttest-auc:0.941661+0.0226622\n",
      "[222]\ttrain-auc:0.989154+0.00137394\ttest-auc:0.941351+0.0226163\n",
      "[223]\ttrain-auc:0.98916+0.00138384\ttest-auc:0.941489+0.0224791\n",
      "[224]\ttrain-auc:0.989162+0.00135411\ttest-auc:0.941558+0.0224227\n",
      "[225]\ttrain-auc:0.989198+0.00130867\ttest-auc:0.941798+0.0226216\n",
      "[226]\ttrain-auc:0.98922+0.00133827\ttest-auc:0.941867+0.0227067\n",
      "[227]\ttrain-auc:0.989248+0.00139657\ttest-auc:0.941523+0.0227882\n",
      "[228]\ttrain-auc:0.989278+0.00135696\ttest-auc:0.941934+0.0227689\n",
      "[229]\ttrain-auc:0.989278+0.00134773\ttest-auc:0.942002+0.0224775\n",
      "[230]\ttrain-auc:0.989304+0.00131642\ttest-auc:0.941865+0.022553\n",
      "[231]\ttrain-auc:0.989357+0.00129312\ttest-auc:0.941695+0.0225775\n",
      "[232]\ttrain-auc:0.989346+0.00133411\ttest-auc:0.941729+0.0226699\n",
      "[233]\ttrain-auc:0.98934+0.0013448\ttest-auc:0.941694+0.0226831\n",
      "[234]\ttrain-auc:0.989359+0.00132701\ttest-auc:0.941762+0.0227097\n",
      "[235]\ttrain-auc:0.98942+0.00132817\ttest-auc:0.941865+0.0226624\n",
      "[236]\ttrain-auc:0.989422+0.00135163\ttest-auc:0.941865+0.0225128\n",
      "[237]\ttrain-auc:0.989442+0.00134578\ttest-auc:0.941865+0.0223538\n",
      "[238]\ttrain-auc:0.989455+0.00132267\ttest-auc:0.941968+0.0222275\n",
      "[239]\ttrain-auc:0.989478+0.00134275\ttest-auc:0.941689+0.0225128\n",
      "[240]\ttrain-auc:0.989482+0.00134796\ttest-auc:0.941826+0.0223739\n",
      "[241]\ttrain-auc:0.989485+0.00132547\ttest-auc:0.941758+0.0222439\n",
      "[242]\ttrain-auc:0.9895+0.00137191\ttest-auc:0.941758+0.0222185\n",
      "[243]\ttrain-auc:0.989516+0.00133504\ttest-auc:0.941826+0.0223544\n",
      "[244]\ttrain-auc:0.989542+0.00132569\ttest-auc:0.941896+0.0222828\n",
      "[245]\ttrain-auc:0.989514+0.0013145\ttest-auc:0.941862+0.022185\n",
      "[246]\ttrain-auc:0.989549+0.00132804\ttest-auc:0.941794+0.0221535\n",
      "[247]\ttrain-auc:0.989591+0.00132331\ttest-auc:0.94145+0.0221159\n",
      "[248]\ttrain-auc:0.989626+0.00127199\ttest-auc:0.941107+0.021983\n",
      "[249]\ttrain-auc:0.989617+0.00128384\ttest-auc:0.941243+0.0221856\n",
      "[250]\ttrain-auc:0.989624+0.00126254\ttest-auc:0.941175+0.0225517\n",
      "[251]\ttrain-auc:0.989654+0.00126484\ttest-auc:0.941003+0.0223972\n",
      "[252]\ttrain-auc:0.989724+0.00117847\ttest-auc:0.940797+0.0223932\n",
      "[253]\ttrain-auc:0.989669+0.00127335\ttest-auc:0.940693+0.0228837\n",
      "[254]\ttrain-auc:0.989686+0.00125476\ttest-auc:0.940934+0.02279\n",
      "[255]\ttrain-auc:0.989772+0.00118201\ttest-auc:0.940934+0.0227636\n",
      "[256]\ttrain-auc:0.989749+0.00121612\ttest-auc:0.941191+0.0230465\n",
      "[257]\ttrain-auc:0.989804+0.00122917\ttest-auc:0.940951+0.0230604\n",
      "[258]\ttrain-auc:0.989759+0.00117888\ttest-auc:0.940987+0.0225666\n",
      "[259]\ttrain-auc:0.989781+0.00120366\ttest-auc:0.941056+0.0228453\n"
     ]
    },
    {
     "name": "stdout",
     "output_type": "stream",
     "text": [
      "[260]\ttrain-auc:0.989772+0.00117787\ttest-auc:0.941332+0.0225993\n",
      "[261]\ttrain-auc:0.989822+0.00114892\ttest-auc:0.9414+0.0226361\n",
      "[262]\ttrain-auc:0.989862+0.00115696\ttest-auc:0.941261+0.0228926\n",
      "[263]\ttrain-auc:0.989901+0.00113868\ttest-auc:0.941261+0.0228167\n",
      "[264]\ttrain-auc:0.989875+0.00122972\ttest-auc:0.9414+0.022559\n",
      "[265]\ttrain-auc:0.989865+0.00119905\ttest-auc:0.941433+0.0225809\n",
      "[266]\ttrain-auc:0.989884+0.00117406\ttest-auc:0.941468+0.0224569\n",
      "[267]\ttrain-auc:0.989974+0.00112398\ttest-auc:0.94126+0.0226694\n",
      "[268]\ttrain-auc:0.989985+0.00113042\ttest-auc:0.941397+0.0230216\n",
      "[269]\ttrain-auc:0.989978+0.00110681\ttest-auc:0.941363+0.0229676\n",
      "[270]\ttrain-auc:0.990017+0.00106982\ttest-auc:0.941089+0.022839\n",
      "[271]\ttrain-auc:0.990015+0.00110754\ttest-auc:0.941123+0.0229187\n",
      "[272]\ttrain-auc:0.990023+0.00111679\ttest-auc:0.94126+0.0228817\n",
      "[273]\ttrain-auc:0.98991+0.0012989\ttest-auc:0.941637+0.0228428\n",
      "[274]\ttrain-auc:0.989918+0.00130412\ttest-auc:0.941947+0.0226274\n",
      "[275]\ttrain-auc:0.98992+0.00131376\ttest-auc:0.941981+0.0226209\n",
      "[276]\ttrain-auc:0.98994+0.00130396\ttest-auc:0.942049+0.0225592\n",
      "[277]\ttrain-auc:0.989963+0.00131323\ttest-auc:0.942048+0.0226073\n",
      "[278]\ttrain-auc:0.989998+0.00129719\ttest-auc:0.941842+0.0225826\n",
      "[279]\ttrain-auc:0.990004+0.00126655\ttest-auc:0.942047+0.0226254\n",
      "[280]\ttrain-auc:0.989991+0.00127088\ttest-auc:0.941979+0.0227586\n",
      "[281]\ttrain-auc:0.989972+0.00131156\ttest-auc:0.942012+0.0229467\n",
      "[282]\ttrain-auc:0.990004+0.00131059\ttest-auc:0.942117+0.0228373\n",
      "[283]\ttrain-auc:0.990027+0.0013195\ttest-auc:0.942185+0.0227215\n",
      "[284]\ttrain-auc:0.990096+0.00131097\ttest-auc:0.942014+0.0226309\n",
      "[285]\ttrain-auc:0.990105+0.00133083\ttest-auc:0.942085+0.0228715\n",
      "[286]\ttrain-auc:0.990083+0.00129643\ttest-auc:0.941911+0.0226659\n",
      "[287]\ttrain-auc:0.990096+0.001285\ttest-auc:0.941737+0.0223726\n",
      "[288]\ttrain-auc:0.990113+0.00130306\ttest-auc:0.94212+0.0225803\n",
      "[289]\ttrain-auc:0.990079+0.00130141\ttest-auc:0.942086+0.022441\n",
      "[290]\ttrain-auc:0.990143+0.00130522\ttest-auc:0.941949+0.0224569\n",
      "[291]\ttrain-auc:0.990143+0.00131378\ttest-auc:0.941882+0.0224622\n",
      "[292]\ttrain-auc:0.990139+0.00132649\ttest-auc:0.941674+0.0223191\n",
      "[293]\ttrain-auc:0.99016+0.00130202\ttest-auc:0.941776+0.0224391\n",
      "[294]\ttrain-auc:0.990179+0.0013359\ttest-auc:0.941776+0.0222273\n",
      "[295]\ttrain-auc:0.99018+0.00134929\ttest-auc:0.941501+0.0223661\n",
      "[296]\ttrain-auc:0.990201+0.00134811\ttest-auc:0.941604+0.0226268\n",
      "[297]\ttrain-auc:0.990227+0.00138219\ttest-auc:0.941638+0.0226189\n",
      "[298]\ttrain-auc:0.990259+0.00135034\ttest-auc:0.94157+0.0225533\n",
      "[299]\ttrain-auc:0.990285+0.00134019\ttest-auc:0.94164+0.0222781\n",
      "[300]\ttrain-auc:0.990284+0.00133189\ttest-auc:0.941674+0.0222595\n",
      "[301]\ttrain-auc:0.990342+0.00139279\ttest-auc:0.9414+0.0219791\n",
      "[302]\ttrain-auc:0.99034+0.00136219\ttest-auc:0.941157+0.0217886\n",
      "[303]\ttrain-auc:0.990362+0.00136912\ttest-auc:0.941328+0.0219645\n",
      "[304]\ttrain-auc:0.990355+0.00139758\ttest-auc:0.941328+0.022049\n",
      "[305]\ttrain-auc:0.990488+0.00128836\ttest-auc:0.941121+0.0220244\n",
      "[306]\ttrain-auc:0.990507+0.00126771\ttest-auc:0.941157+0.0215258\n",
      "[307]\ttrain-auc:0.990539+0.00126817\ttest-auc:0.941468+0.021598\n",
      "[308]\ttrain-auc:0.990492+0.00124456\ttest-auc:0.941156+0.0218488\n",
      "[309]\ttrain-auc:0.990503+0.0012445\ttest-auc:0.941294+0.0218615\n",
      "[310]\ttrain-auc:0.990509+0.00122306\ttest-auc:0.94078+0.0222125\n",
      "[311]\ttrain-auc:0.990518+0.0012527\ttest-auc:0.940541+0.0218098\n",
      "[312]\ttrain-auc:0.990591+0.00126504\ttest-auc:0.940438+0.0216499\n",
      "[313]\ttrain-auc:0.990625+0.0012788\ttest-auc:0.940572+0.0225627\n",
      "[314]\ttrain-auc:0.990619+0.00126699\ttest-auc:0.94071+0.0223234\n",
      "[315]\ttrain-auc:0.990584+0.00126094\ttest-auc:0.940812+0.022383\n",
      "[316]\ttrain-auc:0.990588+0.00123362\ttest-auc:0.940333+0.0217659\n",
      "[317]\ttrain-auc:0.990593+0.00121443\ttest-auc:0.94054+0.0218266\n",
      "[318]\ttrain-auc:0.990651+0.00123918\ttest-auc:0.940574+0.0219031\n",
      "[319]\ttrain-auc:0.990627+0.00122322\ttest-auc:0.940435+0.0224179\n",
      "[320]\ttrain-auc:0.990636+0.00122486\ttest-auc:0.940641+0.0222451\n",
      "[321]\ttrain-auc:0.990664+0.00124781\ttest-auc:0.940709+0.0222257\n",
      "[322]\ttrain-auc:0.990683+0.0014353\ttest-auc:0.940744+0.0221925\n",
      "[323]\ttrain-auc:0.990754+0.00131704\ttest-auc:0.940778+0.0224811\n",
      "[324]\ttrain-auc:0.990745+0.00137211\ttest-auc:0.940607+0.0223361\n",
      "[325]\ttrain-auc:0.990711+0.00131278\ttest-auc:0.940537+0.0222946\n",
      "[326]\ttrain-auc:0.990766+0.00134068\ttest-auc:0.940401+0.0221369\n",
      "[327]\ttrain-auc:0.990771+0.00132648\ttest-auc:0.940434+0.0222046\n",
      "[328]\ttrain-auc:0.990775+0.00128545\ttest-auc:0.940399+0.0220939\n",
      "[329]\ttrain-auc:0.990805+0.00131978\ttest-auc:0.940641+0.0217866\n",
      "[330]\ttrain-auc:0.990766+0.00128118\ttest-auc:0.940607+0.0220366\n",
      "[331]\ttrain-auc:0.990822+0.00126737\ttest-auc:0.940641+0.0221141\n",
      "[332]\ttrain-auc:0.990865+0.00127679\ttest-auc:0.940675+0.0221155\n"
     ]
    },
    {
     "data": {
      "text/plain": [
       "XGBClassifier(base_score=0.5, booster='gbtree', colsample_bylevel=1,\n",
       "       colsample_bytree=0.8, gamma=0, learning_rate=0.1, max_delta_step=0,\n",
       "       max_depth=5, min_child_weight=1, missing=None, n_estimators=284,\n",
       "       n_jobs=-1, nthread=None, objective='binary:logistic',\n",
       "       random_state=0, reg_alpha=0, reg_lambda=1, scale_pos_weight=1,\n",
       "       seed=5, silent=False, subsample=0.8)"
      ]
     },
     "execution_count": 29,
     "metadata": {},
     "output_type": "execute_result"
    }
   ],
   "source": [
    "xgb_params = xgb_model01.get_xgb_params()\n",
    "xgtrain = xgb.DMatrix(pd.DataFrame(training_data[predictors]), label=training_data[target].values)\n",
    "cvresult = xgb.cv(params=xgb_params, dtrain=xgtrain, num_boost_round=xgb_model01.get_params()['n_estimators'], nfold=5, \n",
    "                  stratified=False, folds=None, metrics='auc', obj=None, feval=None, \n",
    "                  maximize=False, early_stopping_rounds=50, verbose_eval=True)\n",
    "xgb_model01.set_params(n_estimators=cvresult.shape[0])   \n",
    "\n",
    "#Fit the xgb_model01 algorithm on the data\n",
    "xgb_model01.fit(X=training_data[predictors], \n",
    "        y=training_data[target], \n",
    "        eval_metric='auc')\n"
   ]
  },
  {
   "cell_type": "markdown",
   "metadata": {},
   "source": [
    "###### Feature Importance Graph"
   ]
  },
  {
   "cell_type": "code",
   "execution_count": 30,
   "metadata": {},
   "outputs": [
    {
     "data": {
      "text/plain": [
       "<matplotlib.axes._subplots.AxesSubplot at 0x1a1e754cda0>"
      ]
     },
     "execution_count": 30,
     "metadata": {},
     "output_type": "execute_result"
    },
    {
     "data": {
      "image/png": "[encoded data removed]",
      "text/plain": [
       "<Figure size 3600x12960 with 1 Axes>"
      ]
     },
     "metadata": {},
     "output_type": "display_data"
    }
   ],
   "source": [
    "rcParams['figure.figsize'] = 50,180\n",
    "xgb.plot_importance(xgb_model01.get_booster())"
   ]
  },
  {
   "cell_type": "code",
   "execution_count": 50,
   "metadata": {},
   "outputs": [
    {
     "name": "stdout",
     "output_type": "stream",
     "text": [
      "\n",
      "Model Report (TRAIN) :\n",
      "\n",
      "Accurary : 94.3717\n",
      "AUC Score : 99.066\n",
      "F1 Score : 94.3689\n",
      "\n",
      "Model Report (TEST) : \n",
      "\n",
      "Accurary : 86.4583\n",
      "AUC Score : 93.5113\n",
      "F1 Score : 86.4215\n"
     ]
    },
    {
     "name": "stderr",
     "output_type": "stream",
     "text": [
      "C:\\Anaconda3\\envs\\tensorflow\\lib\\site-packages\\sklearn\\preprocessing\\label.py:151: DeprecationWarning: The truth value of an empty array is ambiguous. Returning False, but in future this will result in an error. Use `array.size > 0` to check that an array is not empty.\n",
      "  if diff:\n",
      "C:\\Anaconda3\\envs\\tensorflow\\lib\\site-packages\\sklearn\\preprocessing\\label.py:151: DeprecationWarning: The truth value of an empty array is ambiguous. Returning False, but in future this will result in an error. Use `array.size > 0` to check that an array is not empty.\n",
      "  if diff:\n"
     ]
    }
   ],
   "source": [
    "#Predict training set:\n",
    "train_predictions = xgb_model01.predict(training_data[predictors])\n",
    "train_predprob = xgb_model01.predict_proba(training_data[predictors])[:, 1]  \n",
    "\n",
    "#Print model report:\n",
    "acc = float(accuracy_score(training_data[target], train_predictions)) * 100\n",
    "AUC = float(roc_auc_score(training_data[target], train_predprob, average='weighted')) * 100\n",
    "f1 = float(f1_score(training_data[target], train_predictions, average='weighted')) * 100\n",
    "\n",
    "print(\"\\nModel Report (TRAIN) :\\n\")\n",
    "print(\"Accurary : %.6g\" % acc)\n",
    "print(\"AUC Score : %.6g\" % AUC)\n",
    "print(\"F1 Score : %.6g\" % f1)\n",
    "\n",
    "# Predicting on test data:\n",
    "test_predictions = xgb_model01.predict(test_data[predictors])\n",
    "test_predprob = xgb_model01.predict_proba(test_data[predictors])[:, 1]  \n",
    "\n",
    "#Print model report:\n",
    "acc = float(accuracy_score(test_data[target], test_predictions)) * 100\n",
    "AUC = float(roc_auc_score(test_data[target], test_predprob, average='weighted')) * 100\n",
    "f1 = float(f1_score(test_data[target], test_predictions, average='weighted')) * 100\n",
    "\n",
    "print(\"\\nModel Report (TEST) : \\n\")\n",
    "print(\"Accurary : %.6g\" % acc)\n",
    "print(\"AUC Score : %.6g\" % AUC)\n",
    "print(\"F1 Score : %.6g\" % f1)"
   ]
  },
  {
   "cell_type": "markdown",
   "metadata": {},
   "source": [
    "# Saving Model"
   ]
  },
  {
   "cell_type": "code",
   "execution_count": 52,
   "metadata": {},
   "outputs": [
    {
     "data": {
      "text/plain": [
       "['./model pickle/XGBClassifier_equalData_threat_3000_F1_Score86.4215']"
      ]
     },
     "execution_count": 52,
     "metadata": {},
     "output_type": "execute_result"
    }
   ],
   "source": [
    "path = './model pickle/'\n",
    "filename = path + \"XGBClassifier_equalData_\" + target + \"_\" + str(N) + \"_F1_Score\" + str(format(f1, '.6g'))\n",
    "joblib.dump(xgb_model01, filename)"
   ]
  },
  {
   "cell_type": "markdown",
   "metadata": {},
   "source": [
    "# Loading Model"
   ]
  },
  {
   "cell_type": "code",
   "execution_count": 32,
   "metadata": {},
   "outputs": [],
   "source": [
    "# path = './model pickle/'\n",
    "# filename = path + 'XGBClassifier_equalData_toxic_3000_F1_Score87.6949'\n",
    "# xgb_model01 = joblib.load(filename)"
   ]
  },
  {
   "cell_type": "markdown",
   "metadata": {},
   "source": [
    "# Probability prediction for test.csv provided by kaggle"
   ]
  },
  {
   "cell_type": "code",
   "execution_count": 53,
   "metadata": {},
   "outputs": [],
   "source": [
    "testCSV = pd.read_csv('./Dataset/test.csv')"
   ]
  },
  {
   "cell_type": "code",
   "execution_count": 54,
   "metadata": {},
   "outputs": [
    {
     "data": {
      "text/html": [
       "<div>\n",
       "<style scoped>\n",
       "    .dataframe tbody tr th:only-of-type {\n",
       "        vertical-align: middle;\n",
       "    }\n",
       "\n",
       "    .dataframe tbody tr th {\n",
       "        vertical-align: top;\n",
       "    }\n",
       "\n",
       "    .dataframe thead th {\n",
       "        text-align: right;\n",
       "    }\n",
       "</style>\n",
       "<table border=\"1\" class=\"dataframe\">\n",
       "  <thead>\n",
       "    <tr style=\"text-align: right;\">\n",
       "      <th></th>\n",
       "      <th>id</th>\n",
       "      <th>comment_text</th>\n",
       "    </tr>\n",
       "  </thead>\n",
       "  <tbody>\n",
       "    <tr>\n",
       "      <th>0</th>\n",
       "      <td>00001cee341fdb12</td>\n",
       "      <td>Yo bitch Ja Rule is more succesful then you'll...</td>\n",
       "    </tr>\n",
       "    <tr>\n",
       "      <th>1</th>\n",
       "      <td>0000247867823ef7</td>\n",
       "      <td>== From RfC == \\n\\n The title is fine as it is...</td>\n",
       "    </tr>\n",
       "    <tr>\n",
       "      <th>2</th>\n",
       "      <td>00013b17ad220c46</td>\n",
       "      <td>\" \\n\\n == Sources == \\n\\n * Zawe Ashton on Lap...</td>\n",
       "    </tr>\n",
       "    <tr>\n",
       "      <th>3</th>\n",
       "      <td>00017563c3f7919a</td>\n",
       "      <td>:If you have a look back at the source, the in...</td>\n",
       "    </tr>\n",
       "    <tr>\n",
       "      <th>4</th>\n",
       "      <td>00017695ad8997eb</td>\n",
       "      <td>I don't anonymously edit articles at all.</td>\n",
       "    </tr>\n",
       "  </tbody>\n",
       "</table>\n",
       "</div>"
      ],
      "text/plain": [
       "                 id                                       comment_text\n",
       "0  00001cee341fdb12  Yo bitch Ja Rule is more succesful then you'll...\n",
       "1  0000247867823ef7  == From RfC == \\n\\n The title is fine as it is...\n",
       "2  00013b17ad220c46  \" \\n\\n == Sources == \\n\\n * Zawe Ashton on Lap...\n",
       "3  00017563c3f7919a  :If you have a look back at the source, the in...\n",
       "4  00017695ad8997eb          I don't anonymously edit articles at all."
      ]
     },
     "execution_count": 54,
     "metadata": {},
     "output_type": "execute_result"
    }
   ],
   "source": [
    "testCSV.head()"
   ]
  },
  {
   "cell_type": "code",
   "execution_count": 55,
   "metadata": {},
   "outputs": [
    {
     "data": {
      "text/plain": [
       "(153164, 2)"
      ]
     },
     "execution_count": 55,
     "metadata": {},
     "output_type": "execute_result"
    }
   ],
   "source": [
    "testCSV.shape"
   ]
  },
  {
   "cell_type": "markdown",
   "metadata": {},
   "source": [
    "### Pre-processing"
   ]
  },
  {
   "cell_type": "code",
   "execution_count": 56,
   "metadata": {},
   "outputs": [],
   "source": [
    "data_corpus_testCSV = [clean(testCSV.iloc[i,1]) for i in range(0, testCSV.shape[0])]"
   ]
  },
  {
   "cell_type": "code",
   "execution_count": 57,
   "metadata": {},
   "outputs": [],
   "source": [
    "testCSV['comment_text'] = data_corpus_testCSV"
   ]
  },
  {
   "cell_type": "code",
   "execution_count": 58,
   "metadata": {},
   "outputs": [
    {
     "data": {
      "text/html": [
       "<div>\n",
       "<style scoped>\n",
       "    .dataframe tbody tr th:only-of-type {\n",
       "        vertical-align: middle;\n",
       "    }\n",
       "\n",
       "    .dataframe tbody tr th {\n",
       "        vertical-align: top;\n",
       "    }\n",
       "\n",
       "    .dataframe thead th {\n",
       "        text-align: right;\n",
       "    }\n",
       "</style>\n",
       "<table border=\"1\" class=\"dataframe\">\n",
       "  <thead>\n",
       "    <tr style=\"text-align: right;\">\n",
       "      <th></th>\n",
       "      <th>id</th>\n",
       "      <th>comment_text</th>\n",
       "    </tr>\n",
       "  </thead>\n",
       "  <tbody>\n",
       "    <tr>\n",
       "      <th>0</th>\n",
       "      <td>00001cee341fdb12</td>\n",
       "      <td>yo bitch ja rule succesful ever whats hating s...</td>\n",
       "    </tr>\n",
       "    <tr>\n",
       "      <th>1</th>\n",
       "      <td>0000247867823ef7</td>\n",
       "      <td>rfc  title fine is imo</td>\n",
       "    </tr>\n",
       "    <tr>\n",
       "      <th>2</th>\n",
       "      <td>00013b17ad220c46</td>\n",
       "      <td>sources   zawe ashton lapland —</td>\n",
       "    </tr>\n",
       "    <tr>\n",
       "      <th>3</th>\n",
       "      <td>00017563c3f7919a</td>\n",
       "      <td>if look back source information updated correc...</td>\n",
       "    </tr>\n",
       "    <tr>\n",
       "      <th>4</th>\n",
       "      <td>00017695ad8997eb</td>\n",
       "      <td>anonymously edit articles all</td>\n",
       "    </tr>\n",
       "  </tbody>\n",
       "</table>\n",
       "</div>"
      ],
      "text/plain": [
       "                 id                                       comment_text\n",
       "0  00001cee341fdb12  yo bitch ja rule succesful ever whats hating s...\n",
       "1  0000247867823ef7                             rfc  title fine is imo\n",
       "2  00013b17ad220c46                  sources   zawe ashton lapland —  \n",
       "3  00017563c3f7919a  if look back source information updated correc...\n",
       "4  00017695ad8997eb                      anonymously edit articles all"
      ]
     },
     "execution_count": 58,
     "metadata": {},
     "output_type": "execute_result"
    }
   ],
   "source": [
    "testCSV.head()"
   ]
  },
  {
   "cell_type": "code",
   "execution_count": 62,
   "metadata": {},
   "outputs": [],
   "source": [
    "vectorizer = CountVectorizer(min_df=2, max_features=N, vocabulary=train_tdm_all_features) \n",
    "vec = vectorizer.fit(testCSV['comment_text'])"
   ]
  },
  {
   "cell_type": "code",
   "execution_count": 63,
   "metadata": {},
   "outputs": [
    {
     "data": {
      "text/plain": [
       "(153164, 2494)"
      ]
     },
     "execution_count": 63,
     "metadata": {},
     "output_type": "execute_result"
    }
   ],
   "source": [
    "X = vec.transform(testCSV['comment_text'])\n",
    "X.shape"
   ]
  },
  {
   "cell_type": "code",
   "execution_count": 64,
   "metadata": {},
   "outputs": [],
   "source": [
    "df_tdm_testCSV = pd.DataFrame(X.toarray(), columns=vec.get_feature_names())"
   ]
  },
  {
   "cell_type": "code",
   "execution_count": 65,
   "metadata": {},
   "outputs": [],
   "source": [
    "df_tdm_testCSV.id = testCSV.id"
   ]
  },
  {
   "cell_type": "code",
   "execution_count": 66,
   "metadata": {},
   "outputs": [],
   "source": [
    "predictors_for_testCSV = [x for x in df_tdm_testCSV.columns if x not in [target, 'id']]"
   ]
  },
  {
   "cell_type": "code",
   "execution_count": 67,
   "metadata": {},
   "outputs": [
    {
     "data": {
      "text/plain": [
       "(153164, 2492)"
      ]
     },
     "execution_count": 67,
     "metadata": {},
     "output_type": "execute_result"
    }
   ],
   "source": [
    "df_tdm_testCSV[predictors_for_testCSV].shape"
   ]
  },
  {
   "cell_type": "code",
   "execution_count": 69,
   "metadata": {},
   "outputs": [
    {
     "data": {
      "text/html": [
       "<div>\n",
       "<style scoped>\n",
       "    .dataframe tbody tr th:only-of-type {\n",
       "        vertical-align: middle;\n",
       "    }\n",
       "\n",
       "    .dataframe tbody tr th {\n",
       "        vertical-align: top;\n",
       "    }\n",
       "\n",
       "    .dataframe thead th {\n",
       "        text-align: right;\n",
       "    }\n",
       "</style>\n",
       "<table border=\"1\" class=\"dataframe\">\n",
       "  <thead>\n",
       "    <tr style=\"text-align: right;\">\n",
       "      <th></th>\n",
       "      <th>able</th>\n",
       "      <th>about</th>\n",
       "      <th>above</th>\n",
       "      <th>absence</th>\n",
       "      <th>absolutely</th>\n",
       "      <th>abuse</th>\n",
       "      <th>abused</th>\n",
       "      <th>ac</th>\n",
       "      <th>academic</th>\n",
       "      <th>accept</th>\n",
       "      <th>...</th>\n",
       "      <th>ŵhen</th>\n",
       "      <th>ŵhere</th>\n",
       "      <th>ŵill</th>\n",
       "      <th>ŷou</th>\n",
       "      <th>ŷour</th>\n",
       "      <th>ṃake</th>\n",
       "      <th>ṃaśţurbaţion</th>\n",
       "      <th>ṃuţilaţe</th>\n",
       "      <th>ṗroçeśś</th>\n",
       "      <th>ṗull</th>\n",
       "    </tr>\n",
       "  </thead>\n",
       "  <tbody>\n",
       "    <tr>\n",
       "      <th>0</th>\n",
       "      <td>0</td>\n",
       "      <td>0</td>\n",
       "      <td>0</td>\n",
       "      <td>0</td>\n",
       "      <td>0</td>\n",
       "      <td>0</td>\n",
       "      <td>0</td>\n",
       "      <td>0</td>\n",
       "      <td>0</td>\n",
       "      <td>0</td>\n",
       "      <td>...</td>\n",
       "      <td>0</td>\n",
       "      <td>0</td>\n",
       "      <td>0</td>\n",
       "      <td>0</td>\n",
       "      <td>0</td>\n",
       "      <td>0</td>\n",
       "      <td>0</td>\n",
       "      <td>0</td>\n",
       "      <td>0</td>\n",
       "      <td>0</td>\n",
       "    </tr>\n",
       "    <tr>\n",
       "      <th>1</th>\n",
       "      <td>0</td>\n",
       "      <td>0</td>\n",
       "      <td>0</td>\n",
       "      <td>0</td>\n",
       "      <td>0</td>\n",
       "      <td>0</td>\n",
       "      <td>0</td>\n",
       "      <td>0</td>\n",
       "      <td>0</td>\n",
       "      <td>0</td>\n",
       "      <td>...</td>\n",
       "      <td>0</td>\n",
       "      <td>0</td>\n",
       "      <td>0</td>\n",
       "      <td>0</td>\n",
       "      <td>0</td>\n",
       "      <td>0</td>\n",
       "      <td>0</td>\n",
       "      <td>0</td>\n",
       "      <td>0</td>\n",
       "      <td>0</td>\n",
       "    </tr>\n",
       "    <tr>\n",
       "      <th>2</th>\n",
       "      <td>0</td>\n",
       "      <td>0</td>\n",
       "      <td>0</td>\n",
       "      <td>0</td>\n",
       "      <td>0</td>\n",
       "      <td>0</td>\n",
       "      <td>0</td>\n",
       "      <td>0</td>\n",
       "      <td>0</td>\n",
       "      <td>0</td>\n",
       "      <td>...</td>\n",
       "      <td>0</td>\n",
       "      <td>0</td>\n",
       "      <td>0</td>\n",
       "      <td>0</td>\n",
       "      <td>0</td>\n",
       "      <td>0</td>\n",
       "      <td>0</td>\n",
       "      <td>0</td>\n",
       "      <td>0</td>\n",
       "      <td>0</td>\n",
       "    </tr>\n",
       "    <tr>\n",
       "      <th>3</th>\n",
       "      <td>0</td>\n",
       "      <td>0</td>\n",
       "      <td>0</td>\n",
       "      <td>0</td>\n",
       "      <td>0</td>\n",
       "      <td>0</td>\n",
       "      <td>0</td>\n",
       "      <td>0</td>\n",
       "      <td>0</td>\n",
       "      <td>0</td>\n",
       "      <td>...</td>\n",
       "      <td>0</td>\n",
       "      <td>0</td>\n",
       "      <td>0</td>\n",
       "      <td>0</td>\n",
       "      <td>0</td>\n",
       "      <td>0</td>\n",
       "      <td>0</td>\n",
       "      <td>0</td>\n",
       "      <td>0</td>\n",
       "      <td>0</td>\n",
       "    </tr>\n",
       "    <tr>\n",
       "      <th>4</th>\n",
       "      <td>0</td>\n",
       "      <td>0</td>\n",
       "      <td>0</td>\n",
       "      <td>0</td>\n",
       "      <td>0</td>\n",
       "      <td>0</td>\n",
       "      <td>0</td>\n",
       "      <td>0</td>\n",
       "      <td>0</td>\n",
       "      <td>0</td>\n",
       "      <td>...</td>\n",
       "      <td>0</td>\n",
       "      <td>0</td>\n",
       "      <td>0</td>\n",
       "      <td>0</td>\n",
       "      <td>0</td>\n",
       "      <td>0</td>\n",
       "      <td>0</td>\n",
       "      <td>0</td>\n",
       "      <td>0</td>\n",
       "      <td>0</td>\n",
       "    </tr>\n",
       "  </tbody>\n",
       "</table>\n",
       "<p>5 rows × 2494 columns</p>\n",
       "</div>"
      ],
      "text/plain": [
       "   able  about  above  absence  absolutely  abuse  abused  ac  academic  \\\n",
       "0     0      0      0        0           0      0       0   0         0   \n",
       "1     0      0      0        0           0      0       0   0         0   \n",
       "2     0      0      0        0           0      0       0   0         0   \n",
       "3     0      0      0        0           0      0       0   0         0   \n",
       "4     0      0      0        0           0      0       0   0         0   \n",
       "\n",
       "   accept  ...   ŵhen  ŵhere  ŵill  ŷou  ŷour  ṃake  ṃaśţurbaţion  ṃuţilaţe  \\\n",
       "0       0  ...      0      0     0    0     0     0             0         0   \n",
       "1       0  ...      0      0     0    0     0     0             0         0   \n",
       "2       0  ...      0      0     0    0     0     0             0         0   \n",
       "3       0  ...      0      0     0    0     0     0             0         0   \n",
       "4       0  ...      0      0     0    0     0     0             0         0   \n",
       "\n",
       "   ṗroçeśś  ṗull  \n",
       "0        0     0  \n",
       "1        0     0  \n",
       "2        0     0  \n",
       "3        0     0  \n",
       "4        0     0  \n",
       "\n",
       "[5 rows x 2494 columns]"
      ]
     },
     "execution_count": 69,
     "metadata": {},
     "output_type": "execute_result"
    }
   ],
   "source": [
    "df_tdm_testCSV.head()"
   ]
  },
  {
   "cell_type": "code",
   "execution_count": 70,
   "metadata": {},
   "outputs": [],
   "source": [
    "prediction_final = xgb_model01.predict_proba((df_tdm_testCSV[predictors_for_testCSV]))[:,1]"
   ]
  },
  {
   "cell_type": "code",
   "execution_count": 71,
   "metadata": {},
   "outputs": [],
   "source": [
    "final_submission = pd.read_csv('./sample_submission.csv')"
   ]
  },
  {
   "cell_type": "code",
   "execution_count": 72,
   "metadata": {},
   "outputs": [],
   "source": [
    "final_submission[target] = prediction_final"
   ]
  },
  {
   "cell_type": "code",
   "execution_count": 73,
   "metadata": {},
   "outputs": [
    {
     "data": {
      "text/html": [
       "<div>\n",
       "<style scoped>\n",
       "    .dataframe tbody tr th:only-of-type {\n",
       "        vertical-align: middle;\n",
       "    }\n",
       "\n",
       "    .dataframe tbody tr th {\n",
       "        vertical-align: top;\n",
       "    }\n",
       "\n",
       "    .dataframe thead th {\n",
       "        text-align: right;\n",
       "    }\n",
       "</style>\n",
       "<table border=\"1\" class=\"dataframe\">\n",
       "  <thead>\n",
       "    <tr style=\"text-align: right;\">\n",
       "      <th></th>\n",
       "      <th>Unnamed: 0</th>\n",
       "      <th>id</th>\n",
       "      <th>toxic</th>\n",
       "      <th>severe_toxic</th>\n",
       "      <th>obscene</th>\n",
       "      <th>threat</th>\n",
       "    </tr>\n",
       "  </thead>\n",
       "  <tbody>\n",
       "    <tr>\n",
       "      <th>0</th>\n",
       "      <td>0</td>\n",
       "      <td>00001cee341fdb12</td>\n",
       "      <td>0.999996</td>\n",
       "      <td>0.945681</td>\n",
       "      <td>0.998782</td>\n",
       "      <td>0.933109</td>\n",
       "    </tr>\n",
       "    <tr>\n",
       "      <th>1</th>\n",
       "      <td>1</td>\n",
       "      <td>0000247867823ef7</td>\n",
       "      <td>0.166511</td>\n",
       "      <td>0.245883</td>\n",
       "      <td>0.245466</td>\n",
       "      <td>0.225509</td>\n",
       "    </tr>\n",
       "    <tr>\n",
       "      <th>2</th>\n",
       "      <td>2</td>\n",
       "      <td>00013b17ad220c46</td>\n",
       "      <td>0.266785</td>\n",
       "      <td>0.245883</td>\n",
       "      <td>0.213822</td>\n",
       "      <td>0.156009</td>\n",
       "    </tr>\n",
       "    <tr>\n",
       "      <th>3</th>\n",
       "      <td>3</td>\n",
       "      <td>00017563c3f7919a</td>\n",
       "      <td>0.071220</td>\n",
       "      <td>0.223626</td>\n",
       "      <td>0.091228</td>\n",
       "      <td>0.491236</td>\n",
       "    </tr>\n",
       "    <tr>\n",
       "      <th>4</th>\n",
       "      <td>4</td>\n",
       "      <td>00017695ad8997eb</td>\n",
       "      <td>0.327090</td>\n",
       "      <td>0.121694</td>\n",
       "      <td>0.182571</td>\n",
       "      <td>0.067571</td>\n",
       "    </tr>\n",
       "  </tbody>\n",
       "</table>\n",
       "</div>"
      ],
      "text/plain": [
       "   Unnamed: 0                id     toxic  severe_toxic   obscene    threat\n",
       "0           0  00001cee341fdb12  0.999996      0.945681  0.998782  0.933109\n",
       "1           1  0000247867823ef7  0.166511      0.245883  0.245466  0.225509\n",
       "2           2  00013b17ad220c46  0.266785      0.245883  0.213822  0.156009\n",
       "3           3  00017563c3f7919a  0.071220      0.223626  0.091228  0.491236\n",
       "4           4  00017695ad8997eb  0.327090      0.121694  0.182571  0.067571"
      ]
     },
     "execution_count": 73,
     "metadata": {},
     "output_type": "execute_result"
    }
   ],
   "source": [
    "final_submission.head()"
   ]
  },
  {
   "cell_type": "code",
   "execution_count": 74,
   "metadata": {},
   "outputs": [],
   "source": [
    "final_submission = final_submission.drop(['Unnamed: 0'], axis=1)"
   ]
  },
  {
   "cell_type": "code",
   "execution_count": 75,
   "metadata": {},
   "outputs": [
    {
     "data": {
      "text/html": [
       "<div>\n",
       "<style scoped>\n",
       "    .dataframe tbody tr th:only-of-type {\n",
       "        vertical-align: middle;\n",
       "    }\n",
       "\n",
       "    .dataframe tbody tr th {\n",
       "        vertical-align: top;\n",
       "    }\n",
       "\n",
       "    .dataframe thead th {\n",
       "        text-align: right;\n",
       "    }\n",
       "</style>\n",
       "<table border=\"1\" class=\"dataframe\">\n",
       "  <thead>\n",
       "    <tr style=\"text-align: right;\">\n",
       "      <th></th>\n",
       "      <th>id</th>\n",
       "      <th>toxic</th>\n",
       "      <th>severe_toxic</th>\n",
       "      <th>obscene</th>\n",
       "      <th>threat</th>\n",
       "    </tr>\n",
       "  </thead>\n",
       "  <tbody>\n",
       "    <tr>\n",
       "      <th>0</th>\n",
       "      <td>00001cee341fdb12</td>\n",
       "      <td>0.999996</td>\n",
       "      <td>0.945681</td>\n",
       "      <td>0.998782</td>\n",
       "      <td>0.933109</td>\n",
       "    </tr>\n",
       "    <tr>\n",
       "      <th>1</th>\n",
       "      <td>0000247867823ef7</td>\n",
       "      <td>0.166511</td>\n",
       "      <td>0.245883</td>\n",
       "      <td>0.245466</td>\n",
       "      <td>0.225509</td>\n",
       "    </tr>\n",
       "    <tr>\n",
       "      <th>2</th>\n",
       "      <td>00013b17ad220c46</td>\n",
       "      <td>0.266785</td>\n",
       "      <td>0.245883</td>\n",
       "      <td>0.213822</td>\n",
       "      <td>0.156009</td>\n",
       "    </tr>\n",
       "    <tr>\n",
       "      <th>3</th>\n",
       "      <td>00017563c3f7919a</td>\n",
       "      <td>0.071220</td>\n",
       "      <td>0.223626</td>\n",
       "      <td>0.091228</td>\n",
       "      <td>0.491236</td>\n",
       "    </tr>\n",
       "    <tr>\n",
       "      <th>4</th>\n",
       "      <td>00017695ad8997eb</td>\n",
       "      <td>0.327090</td>\n",
       "      <td>0.121694</td>\n",
       "      <td>0.182571</td>\n",
       "      <td>0.067571</td>\n",
       "    </tr>\n",
       "  </tbody>\n",
       "</table>\n",
       "</div>"
      ],
      "text/plain": [
       "                 id     toxic  severe_toxic   obscene    threat\n",
       "0  00001cee341fdb12  0.999996      0.945681  0.998782  0.933109\n",
       "1  0000247867823ef7  0.166511      0.245883  0.245466  0.225509\n",
       "2  00013b17ad220c46  0.266785      0.245883  0.213822  0.156009\n",
       "3  00017563c3f7919a  0.071220      0.223626  0.091228  0.491236\n",
       "4  00017695ad8997eb  0.327090      0.121694  0.182571  0.067571"
      ]
     },
     "execution_count": 75,
     "metadata": {},
     "output_type": "execute_result"
    }
   ],
   "source": [
    "final_submission.head()"
   ]
  },
  {
   "cell_type": "markdown",
   "metadata": {},
   "source": [
    "###### Saving csv file on the disk"
   ]
  },
  {
   "cell_type": "code",
   "execution_count": 76,
   "metadata": {},
   "outputs": [],
   "source": [
    "final_submission.to_csv('./sample_submission.csv')"
   ]
  }
 ],
 "metadata": {
  "kernelspec": {
   "display_name": "Python 3",
   "language": "python",
   "name": "python3"
  },
  "language_info": {
   "codemirror_mode": {
    "name": "ipython",
    "version": 3
   },
   "file_extension": ".py",
   "mimetype": "text/x-python",
   "name": "python",
   "nbconvert_exporter": "python",
   "pygments_lexer": "ipython3",
   "version": "3.5.5"
  }
 },
 "nbformat": 4,
 "nbformat_minor": 2
}
